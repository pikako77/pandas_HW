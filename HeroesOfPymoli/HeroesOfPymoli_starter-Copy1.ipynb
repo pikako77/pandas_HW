{
 "cells": [
  {
   "cell_type": "markdown",
   "metadata": {},
   "source": [
    "### Heroes Of Pymoli Data Analysis\n",
    "* Of the 1163 active players, the vast majority are male (84%). There also exists, a smaller, but notable proportion of female players (14%).\n",
    "\n",
    "* Our peak age demographic falls between 20-24 (44.8%) with secondary groups falling between 15-19 (18.60%) and 25-29 (13.4%).  \n",
    "-----"
   ]
  },
  {
   "cell_type": "markdown",
   "metadata": {},
   "source": [
    "### Note\n",
    "* Instructions have been included for each segment. You do not have to follow them exactly, but they are included to help you think through the steps."
   ]
  },
  {
   "cell_type": "code",
   "execution_count": 81,
   "metadata": {},
   "outputs": [],
   "source": [
    "# Dependencies and Setup\n",
    "import pandas as pd\n",
    "import numpy as np\n",
    "\n",
    "# File to Load (Remember to Change These)\n",
    "file_to_load = \"Resources/purchase_data.csv\"\n",
    "\n",
    "# Read Purchasing File and store into Pandas data frame\n",
    "purchase_data = pd.read_csv(file_to_load)"
   ]
  },
  {
   "cell_type": "markdown",
   "metadata": {},
   "source": [
    "## Player Count"
   ]
  },
  {
   "cell_type": "markdown",
   "metadata": {},
   "source": [
    "* Display the total number of players\n"
   ]
  },
  {
   "cell_type": "code",
   "execution_count": 2,
   "metadata": {},
   "outputs": [
    {
     "data": {
      "text/html": [
       "<div>\n",
       "<style scoped>\n",
       "    .dataframe tbody tr th:only-of-type {\n",
       "        vertical-align: middle;\n",
       "    }\n",
       "\n",
       "    .dataframe tbody tr th {\n",
       "        vertical-align: top;\n",
       "    }\n",
       "\n",
       "    .dataframe thead th {\n",
       "        text-align: right;\n",
       "    }\n",
       "</style>\n",
       "<table border=\"1\" class=\"dataframe\">\n",
       "  <thead>\n",
       "    <tr style=\"text-align: right;\">\n",
       "      <th></th>\n",
       "      <th>Purchase ID</th>\n",
       "      <th>SN</th>\n",
       "      <th>Age</th>\n",
       "      <th>Gender</th>\n",
       "      <th>Item ID</th>\n",
       "      <th>Item Name</th>\n",
       "      <th>Price</th>\n",
       "    </tr>\n",
       "  </thead>\n",
       "  <tbody>\n",
       "    <tr>\n",
       "      <th>0</th>\n",
       "      <td>0</td>\n",
       "      <td>Lisim78</td>\n",
       "      <td>20</td>\n",
       "      <td>Male</td>\n",
       "      <td>108</td>\n",
       "      <td>Extraction, Quickblade Of Trembling Hands</td>\n",
       "      <td>3.53</td>\n",
       "    </tr>\n",
       "    <tr>\n",
       "      <th>1</th>\n",
       "      <td>1</td>\n",
       "      <td>Lisovynya38</td>\n",
       "      <td>40</td>\n",
       "      <td>Male</td>\n",
       "      <td>143</td>\n",
       "      <td>Frenzied Scimitar</td>\n",
       "      <td>1.56</td>\n",
       "    </tr>\n",
       "    <tr>\n",
       "      <th>2</th>\n",
       "      <td>2</td>\n",
       "      <td>Ithergue48</td>\n",
       "      <td>24</td>\n",
       "      <td>Male</td>\n",
       "      <td>92</td>\n",
       "      <td>Final Critic</td>\n",
       "      <td>4.88</td>\n",
       "    </tr>\n",
       "    <tr>\n",
       "      <th>3</th>\n",
       "      <td>3</td>\n",
       "      <td>Chamassasya86</td>\n",
       "      <td>24</td>\n",
       "      <td>Male</td>\n",
       "      <td>100</td>\n",
       "      <td>Blindscythe</td>\n",
       "      <td>3.27</td>\n",
       "    </tr>\n",
       "    <tr>\n",
       "      <th>4</th>\n",
       "      <td>4</td>\n",
       "      <td>Iskosia90</td>\n",
       "      <td>23</td>\n",
       "      <td>Male</td>\n",
       "      <td>131</td>\n",
       "      <td>Fury</td>\n",
       "      <td>1.44</td>\n",
       "    </tr>\n",
       "  </tbody>\n",
       "</table>\n",
       "</div>"
      ],
      "text/plain": [
       "   Purchase ID             SN  Age Gender  Item ID  \\\n",
       "0            0        Lisim78   20   Male      108   \n",
       "1            1    Lisovynya38   40   Male      143   \n",
       "2            2     Ithergue48   24   Male       92   \n",
       "3            3  Chamassasya86   24   Male      100   \n",
       "4            4      Iskosia90   23   Male      131   \n",
       "\n",
       "                                   Item Name  Price  \n",
       "0  Extraction, Quickblade Of Trembling Hands   3.53  \n",
       "1                          Frenzied Scimitar   1.56  \n",
       "2                               Final Critic   4.88  \n",
       "3                                Blindscythe   3.27  \n",
       "4                                       Fury   1.44  "
      ]
     },
     "execution_count": 2,
     "metadata": {},
     "output_type": "execute_result"
    }
   ],
   "source": [
    "# check the read data\n",
    "purchase_data.head()"
   ]
  },
  {
   "cell_type": "code",
   "execution_count": 3,
   "metadata": {},
   "outputs": [
    {
     "name": "stdout",
     "output_type": "stream",
     "text": [
      "TotalPlayer: 576\n",
      "\n"
     ]
    }
   ],
   "source": [
    "# a player has an unique ID (i.e SN)\n",
    "TotalPlayer = len(purchase_data[\"SN\"].unique())\n",
    "print(f\"TotalPlayer: {TotalPlayer}\\n\")"
   ]
  },
  {
   "cell_type": "markdown",
   "metadata": {},
   "source": [
    "## Purchasing Analysis (Total)"
   ]
  },
  {
   "cell_type": "markdown",
   "metadata": {},
   "source": [
    "* Run basic calculations to obtain number of unique items, average price, etc.\n",
    "\n",
    "\n",
    "* Create a summary data frame to hold the results\n",
    "\n",
    "\n",
    "* Optional: give the displayed data cleaner formatting\n",
    "\n",
    "\n",
    "* Display the summary data frame\n"
   ]
  },
  {
   "cell_type": "code",
   "execution_count": 4,
   "metadata": {},
   "outputs": [
    {
     "name": "stdout",
     "output_type": "stream",
     "text": [
      "number of unique item: 183\n",
      "\n"
     ]
    }
   ],
   "source": [
    "# count unique items\n",
    "count_unique_item = len(purchase_data[\"Item ID\"].unique())\n",
    "print(f\"number of unique item: {count_unique_item}\\n\")"
   ]
  },
  {
   "cell_type": "code",
   "execution_count": 5,
   "metadata": {},
   "outputs": [
    {
     "name": "stdout",
     "output_type": "stream",
     "text": [
      "average price of unique item: 3.050987179487176\n",
      "\n"
     ]
    }
   ],
   "source": [
    "# reduced the database on \"Item ID\" and \"Price\"\n",
    "reduced_purchase_data = purchase_data.loc[:,[\"Item ID\", \"Price\"]]\n",
    "reduced_purchase_data.head()\n",
    "\n",
    "# calculate the mean price\n",
    "average_price = reduced_purchase_data[\"Price\"].mean()\n",
    "print(f\"average price of unique item: {average_price}\\n\")"
   ]
  },
  {
   "cell_type": "code",
   "execution_count": 6,
   "metadata": {},
   "outputs": [
    {
     "name": "stdout",
     "output_type": "stream",
     "text": [
      "number of purchase: 780\n",
      "\n"
     ]
    }
   ],
   "source": [
    "# Count the number of purchase\n",
    "count_purchase = len(purchase_data[\"Purchase ID\"].unique())\n",
    "print(f\"number of purchase: {count_purchase}\\n\")"
   ]
  },
  {
   "cell_type": "code",
   "execution_count": 7,
   "metadata": {},
   "outputs": [
    {
     "name": "stdout",
     "output_type": "stream",
     "text": [
      "Total revenue: 2379.77\n",
      "\n"
     ]
    }
   ],
   "source": [
    "# calculate the total revenue\n",
    "total_revenue = purchase_data[\"Price\"].sum()\n",
    "print(f\"Total revenue: {total_revenue}\\n\")"
   ]
  },
  {
   "cell_type": "code",
   "execution_count": 8,
   "metadata": {},
   "outputs": [
    {
     "data": {
      "text/html": [
       "<div>\n",
       "<style scoped>\n",
       "    .dataframe tbody tr th:only-of-type {\n",
       "        vertical-align: middle;\n",
       "    }\n",
       "\n",
       "    .dataframe tbody tr th {\n",
       "        vertical-align: top;\n",
       "    }\n",
       "\n",
       "    .dataframe thead th {\n",
       "        text-align: right;\n",
       "    }\n",
       "</style>\n",
       "<table border=\"1\" class=\"dataframe\">\n",
       "  <thead>\n",
       "    <tr style=\"text-align: right;\">\n",
       "      <th></th>\n",
       "      <th>Average Price</th>\n",
       "      <th>Number of Purchases</th>\n",
       "      <th>Number of Unique Items</th>\n",
       "      <th>Total Revenue</th>\n",
       "    </tr>\n",
       "  </thead>\n",
       "  <tbody>\n",
       "    <tr>\n",
       "      <th>0</th>\n",
       "      <td>3.050987</td>\n",
       "      <td>780</td>\n",
       "      <td>183</td>\n",
       "      <td>2379.77</td>\n",
       "    </tr>\n",
       "  </tbody>\n",
       "</table>\n",
       "</div>"
      ],
      "text/plain": [
       "   Average Price  Number of Purchases  Number of Unique Items  Total Revenue\n",
       "0       3.050987                  780                     183        2379.77"
      ]
     },
     "execution_count": 8,
     "metadata": {},
     "output_type": "execute_result"
    }
   ],
   "source": [
    "# create a data frame storing all the info just calculated\\\n",
    "summary_df = pd.DataFrame([{\"Number of Unique Items\":count_unique_item,\n",
    "                             \"Average Price\"         :average_price ,\n",
    "                             \"Number of Purchases\"   : count_purchase, \n",
    "                             \"Total Revenue\"         :total_revenue\n",
    "                           }\n",
    "                          ])\n",
    "summary_df"
   ]
  },
  {
   "cell_type": "code",
   "execution_count": 9,
   "metadata": {
    "scrolled": true
   },
   "outputs": [
    {
     "data": {
      "text/html": [
       "<style  type=\"text/css\" >\n",
       "</style><table id=\"T_601e1eda_9e72_11e9_9708_7c76355f9654\" ><thead>    <tr>        <th class=\"blank level0\" ></th>        <th class=\"col_heading level0 col0\" >Average Price</th>        <th class=\"col_heading level0 col1\" >Number of Purchases</th>        <th class=\"col_heading level0 col2\" >Number of Unique Items</th>        <th class=\"col_heading level0 col3\" >Total Revenue</th>    </tr></thead><tbody>\n",
       "                <tr>\n",
       "                        <th id=\"T_601e1eda_9e72_11e9_9708_7c76355f9654level0_row0\" class=\"row_heading level0 row0\" >0</th>\n",
       "                        <td id=\"T_601e1eda_9e72_11e9_9708_7c76355f9654row0_col0\" class=\"data row0 col0\" >$3.05</td>\n",
       "                        <td id=\"T_601e1eda_9e72_11e9_9708_7c76355f9654row0_col1\" class=\"data row0 col1\" >780</td>\n",
       "                        <td id=\"T_601e1eda_9e72_11e9_9708_7c76355f9654row0_col2\" class=\"data row0 col2\" >183</td>\n",
       "                        <td id=\"T_601e1eda_9e72_11e9_9708_7c76355f9654row0_col3\" class=\"data row0 col3\" >$2,379.77</td>\n",
       "            </tr>\n",
       "    </tbody></table>"
      ],
      "text/plain": [
       "<pandas.io.formats.style.Styler at 0x2ca6c715710>"
      ]
     },
     "execution_count": 9,
     "metadata": {},
     "output_type": "execute_result"
    }
   ],
   "source": [
    "# format dataframe\n",
    "ouput_df = summary_df.style.format({\n",
    "    'Average Price':\"${:,.2f}\", \n",
    "    'Total Revenue':\"${:,.2f}\"\n",
    "})\n",
    "\n",
    "ouput_df\n",
    "# I dont know why, output of my dataframe in not in the variable order I used to create my df. \n",
    "# It keeps putting in alphabetical order. I tried to fix... but no success"
   ]
  },
  {
   "cell_type": "code",
   "execution_count": null,
   "metadata": {},
   "outputs": [],
   "source": []
  },
  {
   "cell_type": "markdown",
   "metadata": {},
   "source": [
    "## Gender Demographics"
   ]
  },
  {
   "cell_type": "markdown",
   "metadata": {},
   "source": [
    "* Percentage and Count of Male Players\n",
    "\n",
    "\n",
    "* Percentage and Count of Female Players\n",
    "\n",
    "\n",
    "* Percentage and Count of Other / Non-Disclosed\n",
    "\n",
    "\n"
   ]
  },
  {
   "cell_type": "code",
   "execution_count": 10,
   "metadata": {},
   "outputs": [
    {
     "name": "stdout",
     "output_type": "stream",
     "text": [
      "male count: 484\n"
     ]
    }
   ],
   "source": [
    "# count number of male players\n",
    "# filter dataframe on \"Gender\"==\"Male\", \n",
    "# then count the unique SN \n",
    "male_df=purchase_data.loc[purchase_data[\"Gender\"]==\"Male\"]\n",
    "male_count= len(male_df[\"SN\"].unique())\n",
    "print(f\"male count: {male_count}\")"
   ]
  },
  {
   "cell_type": "code",
   "execution_count": 11,
   "metadata": {},
   "outputs": [
    {
     "data": {
      "text/plain": [
       "84.02777777777779"
      ]
     },
     "execution_count": 11,
     "metadata": {},
     "output_type": "execute_result"
    }
   ],
   "source": [
    "# Calculate male percentage\n",
    "male_count_perc = male_count / TotalPlayer *100\n",
    "male_count_perc"
   ]
  },
  {
   "cell_type": "code",
   "execution_count": 12,
   "metadata": {},
   "outputs": [
    {
     "name": "stdout",
     "output_type": "stream",
     "text": [
      "Female count: 81\n"
     ]
    }
   ],
   "source": [
    "# count number of female players\n",
    "# filter dataframe on \"Gender\"==\"Female\", \n",
    "# then count the unique SN \n",
    "female_df=purchase_data.loc[purchase_data[\"Gender\"]==\"Female\"]\n",
    "female_count= len(female_df[\"SN\"].unique())\n",
    "print(f\"Female count: {female_count}\")"
   ]
  },
  {
   "cell_type": "code",
   "execution_count": 13,
   "metadata": {},
   "outputs": [
    {
     "data": {
      "text/plain": [
       "14.0625"
      ]
     },
     "execution_count": 13,
     "metadata": {},
     "output_type": "execute_result"
    }
   ],
   "source": [
    "# Calculate female percentage\n",
    "female_count_perc = female_count / TotalPlayer *100\n",
    "female_count_perc"
   ]
  },
  {
   "cell_type": "code",
   "execution_count": 14,
   "metadata": {},
   "outputs": [
    {
     "name": "stdout",
     "output_type": "stream",
     "text": [
      "count of other: 11\n",
      "percentage of other: 1.9097222222222223\n"
     ]
    }
   ],
   "source": [
    "# Calcuate the number of \"Other\"\n",
    "count_other = TotalPlayer - (male_count + female_count)\n",
    "perc_count_other = count_other/ TotalPlayer *100\n",
    "print(f\"count of other: {count_other}\")\n",
    "print(f\"percentage of other: {perc_count_other}\")"
   ]
  },
  {
   "cell_type": "code",
   "execution_count": 15,
   "metadata": {},
   "outputs": [
    {
     "data": {
      "text/html": [
       "<div>\n",
       "<style scoped>\n",
       "    .dataframe tbody tr th:only-of-type {\n",
       "        vertical-align: middle;\n",
       "    }\n",
       "\n",
       "    .dataframe tbody tr th {\n",
       "        vertical-align: top;\n",
       "    }\n",
       "\n",
       "    .dataframe thead th {\n",
       "        text-align: right;\n",
       "    }\n",
       "</style>\n",
       "<table border=\"1\" class=\"dataframe\">\n",
       "  <thead>\n",
       "    <tr style=\"text-align: right;\">\n",
       "      <th></th>\n",
       "      <th>Total count</th>\n",
       "      <th>Percentage of players</th>\n",
       "    </tr>\n",
       "    <tr>\n",
       "      <th></th>\n",
       "      <th></th>\n",
       "      <th></th>\n",
       "    </tr>\n",
       "  </thead>\n",
       "  <tbody>\n",
       "    <tr>\n",
       "      <th>Male</th>\n",
       "      <td>484</td>\n",
       "      <td>84.03</td>\n",
       "    </tr>\n",
       "    <tr>\n",
       "      <th>Female</th>\n",
       "      <td>81</td>\n",
       "      <td>14.06</td>\n",
       "    </tr>\n",
       "    <tr>\n",
       "      <th>Other / Non-disclosed</th>\n",
       "      <td>11</td>\n",
       "      <td>1.91</td>\n",
       "    </tr>\n",
       "  </tbody>\n",
       "</table>\n",
       "</div>"
      ],
      "text/plain": [
       "                       Total count  Percentage of players\n",
       "                                                         \n",
       "Male                           484                  84.03\n",
       "Female                          81                  14.06\n",
       "Other / Non-disclosed           11                   1.91"
      ]
     },
     "execution_count": 15,
     "metadata": {},
     "output_type": "execute_result"
    }
   ],
   "source": [
    "# Create a summary df for gender analysis\n",
    "data = {''           :['Male','Female','Other / Non-disclosed'],\n",
    "        'Total count':[male_count, female_count,count_other],\n",
    "        'Percentage of players':[round(male_count_perc*100)/100,\n",
    "                                 round(female_count_perc*100)/100,\n",
    "                                 round(perc_count_other*100)/100]\n",
    "       }\n",
    "\n",
    "summary_Gender_df=pd.DataFrame(data)\n",
    "summary_Gender_df.set_index('')"
   ]
  },
  {
   "cell_type": "code",
   "execution_count": null,
   "metadata": {},
   "outputs": [],
   "source": []
  },
  {
   "cell_type": "markdown",
   "metadata": {},
   "source": [
    "\n",
    "## Purchasing Analysis (Gender)"
   ]
  },
  {
   "cell_type": "markdown",
   "metadata": {},
   "source": [
    "* Run basic calculations to obtain purchase count, avg. purchase price, avg. purchase total per person etc. by gender\n",
    "\n",
    "\n",
    "\n",
    "\n",
    "* Create a summary data frame to hold the results\n",
    "\n",
    "\n",
    "* Optional: give the displayed data cleaner formatting\n",
    "\n",
    "\n",
    "* Display the summary data frame"
   ]
  },
  {
   "cell_type": "code",
   "execution_count": 16,
   "metadata": {},
   "outputs": [
    {
     "data": {
      "text/html": [
       "<div>\n",
       "<style scoped>\n",
       "    .dataframe tbody tr th:only-of-type {\n",
       "        vertical-align: middle;\n",
       "    }\n",
       "\n",
       "    .dataframe tbody tr th {\n",
       "        vertical-align: top;\n",
       "    }\n",
       "\n",
       "    .dataframe thead th {\n",
       "        text-align: right;\n",
       "    }\n",
       "</style>\n",
       "<table border=\"1\" class=\"dataframe\">\n",
       "  <thead>\n",
       "    <tr style=\"text-align: right;\">\n",
       "      <th></th>\n",
       "      <th>Purchase ID</th>\n",
       "      <th>SN</th>\n",
       "      <th>Age</th>\n",
       "      <th>Gender</th>\n",
       "      <th>Item ID</th>\n",
       "      <th>Item Name</th>\n",
       "      <th>Price</th>\n",
       "    </tr>\n",
       "  </thead>\n",
       "  <tbody>\n",
       "    <tr>\n",
       "      <th>0</th>\n",
       "      <td>0</td>\n",
       "      <td>Lisim78</td>\n",
       "      <td>20</td>\n",
       "      <td>Male</td>\n",
       "      <td>108</td>\n",
       "      <td>Extraction, Quickblade Of Trembling Hands</td>\n",
       "      <td>3.53</td>\n",
       "    </tr>\n",
       "    <tr>\n",
       "      <th>1</th>\n",
       "      <td>1</td>\n",
       "      <td>Lisovynya38</td>\n",
       "      <td>40</td>\n",
       "      <td>Male</td>\n",
       "      <td>143</td>\n",
       "      <td>Frenzied Scimitar</td>\n",
       "      <td>1.56</td>\n",
       "    </tr>\n",
       "    <tr>\n",
       "      <th>2</th>\n",
       "      <td>2</td>\n",
       "      <td>Ithergue48</td>\n",
       "      <td>24</td>\n",
       "      <td>Male</td>\n",
       "      <td>92</td>\n",
       "      <td>Final Critic</td>\n",
       "      <td>4.88</td>\n",
       "    </tr>\n",
       "    <tr>\n",
       "      <th>3</th>\n",
       "      <td>3</td>\n",
       "      <td>Chamassasya86</td>\n",
       "      <td>24</td>\n",
       "      <td>Male</td>\n",
       "      <td>100</td>\n",
       "      <td>Blindscythe</td>\n",
       "      <td>3.27</td>\n",
       "    </tr>\n",
       "    <tr>\n",
       "      <th>4</th>\n",
       "      <td>4</td>\n",
       "      <td>Iskosia90</td>\n",
       "      <td>23</td>\n",
       "      <td>Male</td>\n",
       "      <td>131</td>\n",
       "      <td>Fury</td>\n",
       "      <td>1.44</td>\n",
       "    </tr>\n",
       "  </tbody>\n",
       "</table>\n",
       "</div>"
      ],
      "text/plain": [
       "   Purchase ID             SN  Age Gender  Item ID  \\\n",
       "0            0        Lisim78   20   Male      108   \n",
       "1            1    Lisovynya38   40   Male      143   \n",
       "2            2     Ithergue48   24   Male       92   \n",
       "3            3  Chamassasya86   24   Male      100   \n",
       "4            4      Iskosia90   23   Male      131   \n",
       "\n",
       "                                   Item Name  Price  \n",
       "0  Extraction, Quickblade Of Trembling Hands   3.53  \n",
       "1                          Frenzied Scimitar   1.56  \n",
       "2                               Final Critic   4.88  \n",
       "3                                Blindscythe   3.27  \n",
       "4                                       Fury   1.44  "
      ]
     },
     "execution_count": 16,
     "metadata": {},
     "output_type": "execute_result"
    }
   ],
   "source": [
    "# check male df\n",
    "male_df.head()"
   ]
  },
  {
   "cell_type": "code",
   "execution_count": 17,
   "metadata": {},
   "outputs": [
    {
     "name": "stdout",
     "output_type": "stream",
     "text": [
      "count male purchase: 652\n",
      "count female purchase: 113\n"
     ]
    }
   ],
   "source": [
    "# Purchase count is length of the dataset for male (resp female)\n",
    "male_purchase_count = len(male_df[\"Purchase ID\"])\n",
    "female_purchase_count = len(female_df[\"Purchase ID\"])\n",
    "other_purchase_count = len(female_df[\"Purchase ID\"])\n",
    "\n",
    "print(f\"count male purchase: {male_purchase_count}\")\n",
    "print(f\"count female purchase: {female_purchase_count}\")"
   ]
  },
  {
   "cell_type": "code",
   "execution_count": 18,
   "metadata": {},
   "outputs": [
    {
     "name": "stdout",
     "output_type": "stream",
     "text": [
      "count other purchase: 15\n"
     ]
    }
   ],
   "source": [
    "# Other purchase count = total_purchase_count - (male_purchase_count + female_purchase_count ) \n",
    "Total_purchase_count = len(purchase_data[\"Purchase ID\"]) \n",
    "other_purchase_count = Total_purchase_count - (male_purchase_count + female_purchase_count)\n",
    "print(f\"count other purchase: {other_purchase_count}\")"
   ]
  },
  {
   "cell_type": "code",
   "execution_count": 19,
   "metadata": {},
   "outputs": [
    {
     "name": "stdout",
     "output_type": "stream",
     "text": [
      "male total purchase value: 1967.64\n",
      "female total purchase value: 361.94\n"
     ]
    }
   ],
   "source": [
    "# Calculate total purchase value for male and female\n",
    "male_purchase_value = male_df[\"Price\"].sum()\n",
    "female_purchase_value = female_df[\"Price\"].sum()\n",
    "\n",
    "print(f\"male total purchase value: {male_purchase_value}\")\n",
    "print(f\"female total purchase value: {female_purchase_value}\")"
   ]
  },
  {
   "cell_type": "code",
   "execution_count": 20,
   "metadata": {},
   "outputs": [
    {
     "name": "stdout",
     "output_type": "stream",
     "text": [
      "other total purchase value: 50.190000000000055\n"
     ]
    }
   ],
   "source": [
    "# Calculate  total purchase value for other\n",
    "other_purchase_value = total_revenue - (male_purchase_value + female_purchase_value )\n",
    "\n",
    "print(f\"other total purchase value: {other_purchase_value}\")\n"
   ]
  },
  {
   "cell_type": "code",
   "execution_count": 21,
   "metadata": {},
   "outputs": [
    {
     "name": "stdout",
     "output_type": "stream",
     "text": [
      "male average purchase price: 3.0178527607361953\n",
      "female average purchase price: 3.203008849557519\n"
     ]
    }
   ],
   "source": [
    "# calculate the average purchase price for male and female\n",
    "male_average_purchase_price = male_df[\"Price\"].mean()\n",
    "female_average_purchase_price = female_df[\"Price\"].mean()\n",
    "\n",
    "print(f\"male average purchase price: {male_average_purchase_price}\")\n",
    "print(f\"female average purchase price: {female_average_purchase_price}\")"
   ]
  },
  {
   "cell_type": "code",
   "execution_count": 22,
   "metadata": {},
   "outputs": [
    {
     "name": "stdout",
     "output_type": "stream",
     "text": [
      "other average purchase price: 3.3460000000000036\n"
     ]
    }
   ],
   "source": [
    "# calculate the average purchase price for other\n",
    "other_average_purchase_price = other_purchase_value / other_purchase_count\n",
    "print(f\"other average purchase price: {other_average_purchase_price}\")"
   ]
  },
  {
   "cell_type": "code",
   "execution_count": 23,
   "metadata": {},
   "outputs": [
    {
     "name": "stdout",
     "output_type": "stream",
     "text": [
      "male average purchase price per person: 4.065371900826446\n",
      "female average purchase price per person: 4.468395061728395\n",
      "other average purchase price per person: 4.562727272727278\n"
     ]
    }
   ],
   "source": [
    "#Average total per person\n",
    "male_average_total_purchase_per_pers = male_purchase_value / male_count\n",
    "female_average_total_purchase_per_pers = female_purchase_value / female_count\n",
    "other_average_total_purchase_per_pers = other_purchase_value / count_other\n",
    "\n",
    "print(f\"male average purchase price per person: {male_average_total_purchase_per_pers}\")\n",
    "print(f\"female average purchase price per person: {female_average_total_purchase_per_pers}\")\n",
    "print(f\"other average purchase price per person: {other_average_total_purchase_per_pers}\")"
   ]
  },
  {
   "cell_type": "code",
   "execution_count": 24,
   "metadata": {},
   "outputs": [
    {
     "data": {
      "text/html": [
       "<style  type=\"text/css\" >\n",
       "</style><table id=\"T_608546b6_9e72_11e9_8f6c_7c76355f9654\" ><thead>    <tr>        <th class=\"blank level0\" ></th>        <th class=\"col_heading level0 col0\" >Purchase count</th>        <th class=\"col_heading level0 col1\" >Average Purchase Value</th>        <th class=\"col_heading level0 col2\" >Total Purchase Value</th>        <th class=\"col_heading level0 col3\" >Avg Total Purchase per Person</th>    </tr>    <tr>        <th class=\"index_name level0\" ></th>        <th class=\"blank\" ></th>        <th class=\"blank\" ></th>        <th class=\"blank\" ></th>        <th class=\"blank\" ></th>    </tr></thead><tbody>\n",
       "                <tr>\n",
       "                        <th id=\"T_608546b6_9e72_11e9_8f6c_7c76355f9654level0_row0\" class=\"row_heading level0 row0\" >Female</th>\n",
       "                        <td id=\"T_608546b6_9e72_11e9_8f6c_7c76355f9654row0_col0\" class=\"data row0 col0\" >113</td>\n",
       "                        <td id=\"T_608546b6_9e72_11e9_8f6c_7c76355f9654row0_col1\" class=\"data row0 col1\" >$3.20</td>\n",
       "                        <td id=\"T_608546b6_9e72_11e9_8f6c_7c76355f9654row0_col2\" class=\"data row0 col2\" >$361.94</td>\n",
       "                        <td id=\"T_608546b6_9e72_11e9_8f6c_7c76355f9654row0_col3\" class=\"data row0 col3\" >$4.47</td>\n",
       "            </tr>\n",
       "            <tr>\n",
       "                        <th id=\"T_608546b6_9e72_11e9_8f6c_7c76355f9654level0_row1\" class=\"row_heading level0 row1\" >Male</th>\n",
       "                        <td id=\"T_608546b6_9e72_11e9_8f6c_7c76355f9654row1_col0\" class=\"data row1 col0\" >652</td>\n",
       "                        <td id=\"T_608546b6_9e72_11e9_8f6c_7c76355f9654row1_col1\" class=\"data row1 col1\" >$3.02</td>\n",
       "                        <td id=\"T_608546b6_9e72_11e9_8f6c_7c76355f9654row1_col2\" class=\"data row1 col2\" >$1,967.64</td>\n",
       "                        <td id=\"T_608546b6_9e72_11e9_8f6c_7c76355f9654row1_col3\" class=\"data row1 col3\" >$4.07</td>\n",
       "            </tr>\n",
       "            <tr>\n",
       "                        <th id=\"T_608546b6_9e72_11e9_8f6c_7c76355f9654level0_row2\" class=\"row_heading level0 row2\" >Other / Non-disclosed</th>\n",
       "                        <td id=\"T_608546b6_9e72_11e9_8f6c_7c76355f9654row2_col0\" class=\"data row2 col0\" >15</td>\n",
       "                        <td id=\"T_608546b6_9e72_11e9_8f6c_7c76355f9654row2_col1\" class=\"data row2 col1\" >$3.35</td>\n",
       "                        <td id=\"T_608546b6_9e72_11e9_8f6c_7c76355f9654row2_col2\" class=\"data row2 col2\" >$50.19</td>\n",
       "                        <td id=\"T_608546b6_9e72_11e9_8f6c_7c76355f9654row2_col3\" class=\"data row2 col3\" >$4.56</td>\n",
       "            </tr>\n",
       "    </tbody></table>"
      ],
      "text/plain": [
       "<pandas.io.formats.style.Styler at 0x2ca6c7187b8>"
      ]
     },
     "execution_count": 24,
     "metadata": {},
     "output_type": "execute_result"
    }
   ],
   "source": [
    "# Create a summary df for purchase analysis\n",
    "data = {''           :['Female','Male','Other / Non-disclosed'],\n",
    "        'Purchase count':[female_purchase_count, \n",
    "                          male_purchase_count,\n",
    "                          other_purchase_count],\n",
    "        \n",
    "        'Average Purchase Value':[female_average_purchase_price,\n",
    "                                  male_average_purchase_price,\n",
    "                                  other_average_purchase_price],\n",
    "        \n",
    "        'Total Purchase Value':[female_purchase_value,\n",
    "                                 male_purchase_value,\n",
    "                                 other_purchase_value],\n",
    "        'Avg Total Purchase per Person':[female_average_total_purchase_per_pers, \n",
    "                                         male_average_total_purchase_per_pers,\n",
    "                                         other_average_total_purchase_per_pers]\n",
    "       }\n",
    "\n",
    "summary_Gender_df=pd.DataFrame(data)\n",
    "\n",
    "summary_Gender_df.set_index('').style.format({'Average Purchase Value': '${:,.2f}'.format , \n",
    "                                              'Total Purchase Value':'${:,.2f}'.format , \n",
    "                                              'Avg Total Purchase per Person': '${:,.2f}'.format \n",
    "                                             })\n"
   ]
  },
  {
   "cell_type": "code",
   "execution_count": null,
   "metadata": {},
   "outputs": [],
   "source": []
  },
  {
   "cell_type": "markdown",
   "metadata": {},
   "source": [
    "## Age Demographics"
   ]
  },
  {
   "cell_type": "markdown",
   "metadata": {},
   "source": [
    "* Establish bins for ages\n",
    "\n",
    "\n",
    "* Categorize the existing players using the age bins. Hint: use pd.cut()\n",
    "\n",
    "\n",
    "* Calculate the numbers and percentages by age group\n",
    "\n",
    "\n",
    "* Create a summary data frame to hold the results\n",
    "\n",
    "\n",
    "* Optional: round the percentage column to two decimal points\n",
    "\n",
    "\n",
    "* Display Age Demographics Table\n"
   ]
  },
  {
   "cell_type": "code",
   "execution_count": 25,
   "metadata": {},
   "outputs": [
    {
     "data": {
      "text/plain": [
       "Age    576\n",
       "SN     576\n",
       "dtype: int64"
      ]
     },
     "execution_count": 25,
     "metadata": {},
     "output_type": "execute_result"
    }
   ],
   "source": [
    "#extract column for \"Age\" and \"SN\"\n",
    "extract_DF = purchase_data.loc[:,[\"Age\", \"SN\"]]\n",
    "\n",
    "# remove duplicate data\n",
    "extract_DF =extract_DF.drop_duplicates()\n",
    "\n",
    "# inital data length = 780 data\n",
    "extract_DF.count()"
   ]
  },
  {
   "cell_type": "code",
   "execution_count": 26,
   "metadata": {},
   "outputs": [
    {
     "data": {
      "text/plain": [
       "['<10', '10-14', '15-19', '20-24', '25-29', '30-34', '35-39', '40+']"
      ]
     },
     "execution_count": 26,
     "metadata": {},
     "output_type": "execute_result"
    }
   ],
   "source": [
    "#define the bins for ages\n",
    "age_bins = [0,9, 14,19,24,29,34,39,100]\n",
    "\n",
    "# define bins label\n",
    "age_bin_labels = [\"<10\", \"10-14\",\"15-19\",\"20-24\",\"25-29\",\"30-34\",\"35-39\",\"40+\"]\n",
    "age_bin_labels"
   ]
  },
  {
   "cell_type": "code",
   "execution_count": 27,
   "metadata": {},
   "outputs": [
    {
     "data": {
      "text/plain": [
       "0    20-24\n",
       "1      40+\n",
       "2    20-24\n",
       "3    20-24\n",
       "4    20-24\n",
       "Name: Age, dtype: category\n",
       "Categories (8, object): [<10 < 10-14 < 15-19 < 20-24 < 25-29 < 30-34 < 35-39 < 40+]"
      ]
     },
     "execution_count": 27,
     "metadata": {},
     "output_type": "execute_result"
    }
   ],
   "source": [
    "## Divide into bins\n",
    "pd.cut(extract_DF[\"Age\"], bins=age_bins, labels=age_bin_labels).head()"
   ]
  },
  {
   "cell_type": "code",
   "execution_count": 28,
   "metadata": {},
   "outputs": [
    {
     "data": {
      "text/html": [
       "<div>\n",
       "<style scoped>\n",
       "    .dataframe tbody tr th:only-of-type {\n",
       "        vertical-align: middle;\n",
       "    }\n",
       "\n",
       "    .dataframe tbody tr th {\n",
       "        vertical-align: top;\n",
       "    }\n",
       "\n",
       "    .dataframe thead th {\n",
       "        text-align: right;\n",
       "    }\n",
       "</style>\n",
       "<table border=\"1\" class=\"dataframe\">\n",
       "  <thead>\n",
       "    <tr style=\"text-align: right;\">\n",
       "      <th></th>\n",
       "      <th>Age</th>\n",
       "      <th>SN</th>\n",
       "      <th>Age category</th>\n",
       "    </tr>\n",
       "  </thead>\n",
       "  <tbody>\n",
       "    <tr>\n",
       "      <th>0</th>\n",
       "      <td>20</td>\n",
       "      <td>Lisim78</td>\n",
       "      <td>20-24</td>\n",
       "    </tr>\n",
       "    <tr>\n",
       "      <th>1</th>\n",
       "      <td>40</td>\n",
       "      <td>Lisovynya38</td>\n",
       "      <td>40+</td>\n",
       "    </tr>\n",
       "    <tr>\n",
       "      <th>2</th>\n",
       "      <td>24</td>\n",
       "      <td>Ithergue48</td>\n",
       "      <td>20-24</td>\n",
       "    </tr>\n",
       "    <tr>\n",
       "      <th>3</th>\n",
       "      <td>24</td>\n",
       "      <td>Chamassasya86</td>\n",
       "      <td>20-24</td>\n",
       "    </tr>\n",
       "    <tr>\n",
       "      <th>4</th>\n",
       "      <td>23</td>\n",
       "      <td>Iskosia90</td>\n",
       "      <td>20-24</td>\n",
       "    </tr>\n",
       "    <tr>\n",
       "      <th>5</th>\n",
       "      <td>22</td>\n",
       "      <td>Yalae81</td>\n",
       "      <td>20-24</td>\n",
       "    </tr>\n",
       "    <tr>\n",
       "      <th>6</th>\n",
       "      <td>36</td>\n",
       "      <td>Itheria73</td>\n",
       "      <td>35-39</td>\n",
       "    </tr>\n",
       "    <tr>\n",
       "      <th>7</th>\n",
       "      <td>20</td>\n",
       "      <td>Iskjaskst81</td>\n",
       "      <td>20-24</td>\n",
       "    </tr>\n",
       "    <tr>\n",
       "      <th>8</th>\n",
       "      <td>22</td>\n",
       "      <td>Undjask33</td>\n",
       "      <td>20-24</td>\n",
       "    </tr>\n",
       "    <tr>\n",
       "      <th>9</th>\n",
       "      <td>35</td>\n",
       "      <td>Chanosian48</td>\n",
       "      <td>35-39</td>\n",
       "    </tr>\n",
       "    <tr>\n",
       "      <th>10</th>\n",
       "      <td>23</td>\n",
       "      <td>Inguron55</td>\n",
       "      <td>20-24</td>\n",
       "    </tr>\n",
       "    <tr>\n",
       "      <th>11</th>\n",
       "      <td>23</td>\n",
       "      <td>Haisrisuir60</td>\n",
       "      <td>20-24</td>\n",
       "    </tr>\n",
       "    <tr>\n",
       "      <th>12</th>\n",
       "      <td>21</td>\n",
       "      <td>Saelaephos52</td>\n",
       "      <td>20-24</td>\n",
       "    </tr>\n",
       "    <tr>\n",
       "      <th>13</th>\n",
       "      <td>22</td>\n",
       "      <td>Assjaskan73</td>\n",
       "      <td>20-24</td>\n",
       "    </tr>\n",
       "    <tr>\n",
       "      <th>14</th>\n",
       "      <td>35</td>\n",
       "      <td>Saesrideu94</td>\n",
       "      <td>35-39</td>\n",
       "    </tr>\n",
       "    <tr>\n",
       "      <th>15</th>\n",
       "      <td>21</td>\n",
       "      <td>Lisassa64</td>\n",
       "      <td>20-24</td>\n",
       "    </tr>\n",
       "    <tr>\n",
       "      <th>16</th>\n",
       "      <td>20</td>\n",
       "      <td>Lisirra25</td>\n",
       "      <td>20-24</td>\n",
       "    </tr>\n",
       "    <tr>\n",
       "      <th>17</th>\n",
       "      <td>21</td>\n",
       "      <td>Zontibe81</td>\n",
       "      <td>20-24</td>\n",
       "    </tr>\n",
       "    <tr>\n",
       "      <th>18</th>\n",
       "      <td>22</td>\n",
       "      <td>Reunasu60</td>\n",
       "      <td>20-24</td>\n",
       "    </tr>\n",
       "    <tr>\n",
       "      <th>19</th>\n",
       "      <td>30</td>\n",
       "      <td>Chamalo71</td>\n",
       "      <td>30-34</td>\n",
       "    </tr>\n",
       "  </tbody>\n",
       "</table>\n",
       "</div>"
      ],
      "text/plain": [
       "    Age             SN Age category\n",
       "0    20        Lisim78        20-24\n",
       "1    40    Lisovynya38          40+\n",
       "2    24     Ithergue48        20-24\n",
       "3    24  Chamassasya86        20-24\n",
       "4    23      Iskosia90        20-24\n",
       "5    22        Yalae81        20-24\n",
       "6    36      Itheria73        35-39\n",
       "7    20    Iskjaskst81        20-24\n",
       "8    22      Undjask33        20-24\n",
       "9    35    Chanosian48        35-39\n",
       "10   23      Inguron55        20-24\n",
       "11   23   Haisrisuir60        20-24\n",
       "12   21   Saelaephos52        20-24\n",
       "13   22    Assjaskan73        20-24\n",
       "14   35    Saesrideu94        35-39\n",
       "15   21      Lisassa64        20-24\n",
       "16   20      Lisirra25        20-24\n",
       "17   21      Zontibe81        20-24\n",
       "18   22      Reunasu60        20-24\n",
       "19   30      Chamalo71        30-34"
      ]
     },
     "execution_count": 28,
     "metadata": {},
     "output_type": "execute_result"
    }
   ],
   "source": [
    "# classify age data into \"Age Category\" \n",
    "\n",
    "extract_DF[\"Age category\"]= pd.cut(extract_DF[\"Age\"], bins=age_bins, labels=age_bin_labels)\n",
    "extract_DF.head(20)"
   ]
  },
  {
   "cell_type": "code",
   "execution_count": 29,
   "metadata": {},
   "outputs": [
    {
     "data": {
      "text/html": [
       "<div>\n",
       "<style scoped>\n",
       "    .dataframe tbody tr th:only-of-type {\n",
       "        vertical-align: middle;\n",
       "    }\n",
       "\n",
       "    .dataframe tbody tr th {\n",
       "        vertical-align: top;\n",
       "    }\n",
       "\n",
       "    .dataframe thead th {\n",
       "        text-align: right;\n",
       "    }\n",
       "</style>\n",
       "<table border=\"1\" class=\"dataframe\">\n",
       "  <thead>\n",
       "    <tr style=\"text-align: right;\">\n",
       "      <th></th>\n",
       "      <th>Age</th>\n",
       "      <th>SN</th>\n",
       "      <th>Age category</th>\n",
       "    </tr>\n",
       "  </thead>\n",
       "  <tbody>\n",
       "    <tr>\n",
       "      <th>0</th>\n",
       "      <td>20</td>\n",
       "      <td>Lisim78</td>\n",
       "      <td>20-24</td>\n",
       "    </tr>\n",
       "    <tr>\n",
       "      <th>1</th>\n",
       "      <td>40</td>\n",
       "      <td>Lisovynya38</td>\n",
       "      <td>40+</td>\n",
       "    </tr>\n",
       "    <tr>\n",
       "      <th>2</th>\n",
       "      <td>24</td>\n",
       "      <td>Ithergue48</td>\n",
       "      <td>20-24</td>\n",
       "    </tr>\n",
       "    <tr>\n",
       "      <th>3</th>\n",
       "      <td>24</td>\n",
       "      <td>Chamassasya86</td>\n",
       "      <td>20-24</td>\n",
       "    </tr>\n",
       "    <tr>\n",
       "      <th>4</th>\n",
       "      <td>23</td>\n",
       "      <td>Iskosia90</td>\n",
       "      <td>20-24</td>\n",
       "    </tr>\n",
       "    <tr>\n",
       "      <th>5</th>\n",
       "      <td>22</td>\n",
       "      <td>Yalae81</td>\n",
       "      <td>20-24</td>\n",
       "    </tr>\n",
       "    <tr>\n",
       "      <th>6</th>\n",
       "      <td>36</td>\n",
       "      <td>Itheria73</td>\n",
       "      <td>35-39</td>\n",
       "    </tr>\n",
       "    <tr>\n",
       "      <th>9</th>\n",
       "      <td>35</td>\n",
       "      <td>Chanosian48</td>\n",
       "      <td>35-39</td>\n",
       "    </tr>\n",
       "    <tr>\n",
       "      <th>14</th>\n",
       "      <td>35</td>\n",
       "      <td>Saesrideu94</td>\n",
       "      <td>35-39</td>\n",
       "    </tr>\n",
       "    <tr>\n",
       "      <th>19</th>\n",
       "      <td>30</td>\n",
       "      <td>Chamalo71</td>\n",
       "      <td>30-34</td>\n",
       "    </tr>\n",
       "    <tr>\n",
       "      <th>22</th>\n",
       "      <td>38</td>\n",
       "      <td>Siarithria38</td>\n",
       "      <td>35-39</td>\n",
       "    </tr>\n",
       "    <tr>\n",
       "      <th>23</th>\n",
       "      <td>40</td>\n",
       "      <td>Eyrian71</td>\n",
       "      <td>40+</td>\n",
       "    </tr>\n",
       "    <tr>\n",
       "      <th>24</th>\n",
       "      <td>30</td>\n",
       "      <td>Siala43</td>\n",
       "      <td>30-34</td>\n",
       "    </tr>\n",
       "    <tr>\n",
       "      <th>25</th>\n",
       "      <td>29</td>\n",
       "      <td>Lisirra87</td>\n",
       "      <td>25-29</td>\n",
       "    </tr>\n",
       "    <tr>\n",
       "      <th>26</th>\n",
       "      <td>11</td>\n",
       "      <td>Lirtossa84</td>\n",
       "      <td>10-14</td>\n",
       "    </tr>\n",
       "    <tr>\n",
       "      <th>27</th>\n",
       "      <td>7</td>\n",
       "      <td>Eusri44</td>\n",
       "      <td>&lt;10</td>\n",
       "    </tr>\n",
       "    <tr>\n",
       "      <th>30</th>\n",
       "      <td>19</td>\n",
       "      <td>Idai61</td>\n",
       "      <td>15-19</td>\n",
       "    </tr>\n",
       "    <tr>\n",
       "      <th>31</th>\n",
       "      <td>37</td>\n",
       "      <td>Farusrian86</td>\n",
       "      <td>35-39</td>\n",
       "    </tr>\n",
       "    <tr>\n",
       "      <th>32</th>\n",
       "      <td>10</td>\n",
       "      <td>Aeralria27</td>\n",
       "      <td>10-14</td>\n",
       "    </tr>\n",
       "    <tr>\n",
       "      <th>33</th>\n",
       "      <td>7</td>\n",
       "      <td>Haillyrgue51</td>\n",
       "      <td>&lt;10</td>\n",
       "    </tr>\n",
       "    <tr>\n",
       "      <th>34</th>\n",
       "      <td>19</td>\n",
       "      <td>Sondim73</td>\n",
       "      <td>15-19</td>\n",
       "    </tr>\n",
       "    <tr>\n",
       "      <th>36</th>\n",
       "      <td>30</td>\n",
       "      <td>Idaisuir85</td>\n",
       "      <td>30-34</td>\n",
       "    </tr>\n",
       "    <tr>\n",
       "      <th>37</th>\n",
       "      <td>8</td>\n",
       "      <td>Seuthep89</td>\n",
       "      <td>&lt;10</td>\n",
       "    </tr>\n",
       "    <tr>\n",
       "      <th>38</th>\n",
       "      <td>10</td>\n",
       "      <td>Reulae52</td>\n",
       "      <td>10-14</td>\n",
       "    </tr>\n",
       "    <tr>\n",
       "      <th>42</th>\n",
       "      <td>18</td>\n",
       "      <td>Aidaillodeu39</td>\n",
       "      <td>15-19</td>\n",
       "    </tr>\n",
       "    <tr>\n",
       "      <th>46</th>\n",
       "      <td>27</td>\n",
       "      <td>Yasrisu92</td>\n",
       "      <td>25-29</td>\n",
       "    </tr>\n",
       "    <tr>\n",
       "      <th>49</th>\n",
       "      <td>33</td>\n",
       "      <td>Iaralrgue74</td>\n",
       "      <td>30-34</td>\n",
       "    </tr>\n",
       "    <tr>\n",
       "      <th>53</th>\n",
       "      <td>32</td>\n",
       "      <td>Ilosianya35</td>\n",
       "      <td>30-34</td>\n",
       "    </tr>\n",
       "    <tr>\n",
       "      <th>54</th>\n",
       "      <td>10</td>\n",
       "      <td>Zhisrisu83</td>\n",
       "      <td>10-14</td>\n",
       "    </tr>\n",
       "    <tr>\n",
       "      <th>55</th>\n",
       "      <td>25</td>\n",
       "      <td>Phaelap26</td>\n",
       "      <td>25-29</td>\n",
       "    </tr>\n",
       "    <tr>\n",
       "      <th>56</th>\n",
       "      <td>12</td>\n",
       "      <td>Raesty92</td>\n",
       "      <td>10-14</td>\n",
       "    </tr>\n",
       "    <tr>\n",
       "      <th>59</th>\n",
       "      <td>19</td>\n",
       "      <td>Yaliru88</td>\n",
       "      <td>15-19</td>\n",
       "    </tr>\n",
       "    <tr>\n",
       "      <th>61</th>\n",
       "      <td>17</td>\n",
       "      <td>Jiskimya77</td>\n",
       "      <td>15-19</td>\n",
       "    </tr>\n",
       "    <tr>\n",
       "      <th>65</th>\n",
       "      <td>25</td>\n",
       "      <td>Chamirraya83</td>\n",
       "      <td>25-29</td>\n",
       "    </tr>\n",
       "    <tr>\n",
       "      <th>70</th>\n",
       "      <td>29</td>\n",
       "      <td>Pheodai94</td>\n",
       "      <td>25-29</td>\n",
       "    </tr>\n",
       "    <tr>\n",
       "      <th>81</th>\n",
       "      <td>8</td>\n",
       "      <td>Heudai45</td>\n",
       "      <td>&lt;10</td>\n",
       "    </tr>\n",
       "    <tr>\n",
       "      <th>187</th>\n",
       "      <td>8</td>\n",
       "      <td>Tyeurith29</td>\n",
       "      <td>&lt;10</td>\n",
       "    </tr>\n",
       "    <tr>\n",
       "      <th>220</th>\n",
       "      <td>40</td>\n",
       "      <td>Jiskjask85</td>\n",
       "      <td>40+</td>\n",
       "    </tr>\n",
       "    <tr>\n",
       "      <th>248</th>\n",
       "      <td>44</td>\n",
       "      <td>Isursuir31</td>\n",
       "      <td>40+</td>\n",
       "    </tr>\n",
       "    <tr>\n",
       "      <th>341</th>\n",
       "      <td>41</td>\n",
       "      <td>Hiasurria41</td>\n",
       "      <td>40+</td>\n",
       "    </tr>\n",
       "  </tbody>\n",
       "</table>\n",
       "</div>"
      ],
      "text/plain": [
       "     Age             SN Age category\n",
       "0     20        Lisim78        20-24\n",
       "1     40    Lisovynya38          40+\n",
       "2     24     Ithergue48        20-24\n",
       "3     24  Chamassasya86        20-24\n",
       "4     23      Iskosia90        20-24\n",
       "5     22        Yalae81        20-24\n",
       "6     36      Itheria73        35-39\n",
       "9     35    Chanosian48        35-39\n",
       "14    35    Saesrideu94        35-39\n",
       "19    30      Chamalo71        30-34\n",
       "22    38   Siarithria38        35-39\n",
       "23    40       Eyrian71          40+\n",
       "24    30        Siala43        30-34\n",
       "25    29      Lisirra87        25-29\n",
       "26    11     Lirtossa84        10-14\n",
       "27     7        Eusri44          <10\n",
       "30    19         Idai61        15-19\n",
       "31    37    Farusrian86        35-39\n",
       "32    10     Aeralria27        10-14\n",
       "33     7   Haillyrgue51          <10\n",
       "34    19       Sondim73        15-19\n",
       "36    30     Idaisuir85        30-34\n",
       "37     8      Seuthep89          <10\n",
       "38    10       Reulae52        10-14\n",
       "42    18  Aidaillodeu39        15-19\n",
       "46    27      Yasrisu92        25-29\n",
       "49    33    Iaralrgue74        30-34\n",
       "53    32    Ilosianya35        30-34\n",
       "54    10     Zhisrisu83        10-14\n",
       "55    25      Phaelap26        25-29\n",
       "56    12       Raesty92        10-14\n",
       "59    19       Yaliru88        15-19\n",
       "61    17     Jiskimya77        15-19\n",
       "65    25   Chamirraya83        25-29\n",
       "70    29      Pheodai94        25-29\n",
       "81     8       Heudai45          <10\n",
       "187    8     Tyeurith29          <10\n",
       "220   40     Jiskjask85          40+\n",
       "248   44     Isursuir31          40+\n",
       "341   41    Hiasurria41          40+"
      ]
     },
     "execution_count": 29,
     "metadata": {},
     "output_type": "execute_result"
    }
   ],
   "source": [
    "# group by \"Age Categoy\"\n",
    "\n",
    "Group_by_ageCat_df = extract_DF.groupby(\"Age category\")\n",
    "Group_by_ageCat_df.head()"
   ]
  },
  {
   "cell_type": "code",
   "execution_count": 30,
   "metadata": {},
   "outputs": [
    {
     "data": {
      "text/plain": [
       "Age category\n",
       "<10       17\n",
       "10-14     22\n",
       "15-19    107\n",
       "20-24    258\n",
       "25-29     77\n",
       "30-34     52\n",
       "35-39     31\n",
       "40+       12\n",
       "Name: Age, dtype: int64"
      ]
     },
     "execution_count": 30,
     "metadata": {},
     "output_type": "execute_result"
    }
   ],
   "source": [
    "# count element in each age category\n",
    "age_cat_count = Group_by_ageCat_df[\"Age\"].count()\n",
    "age_cat_count"
   ]
  },
  {
   "cell_type": "code",
   "execution_count": 83,
   "metadata": {
    "scrolled": true
   },
   "outputs": [
    {
     "data": {
      "text/plain": [
       "[2.951388888888889,\n",
       " 3.8194444444444446,\n",
       " 18.57638888888889,\n",
       " 44.791666666666664,\n",
       " 13.368055555555555,\n",
       " 9.027777777777779,\n",
       " 5.381944444444445,\n",
       " 2.0833333333333335]"
      ]
     },
     "execution_count": 83,
     "metadata": {},
     "output_type": "execute_result"
    }
   ],
   "source": [
    "perc_player = []\n",
    "for i in range (len(age_cat_count)):\n",
    "\n",
    "    perc_player.append(age_cat_count[i]*100/TotalPlayer)\n",
    "    \n",
    "perc_player"
   ]
  },
  {
   "cell_type": "code",
   "execution_count": 90,
   "metadata": {},
   "outputs": [
    {
     "data": {
      "text/html": [
       "<style  type=\"text/css\" >\n",
       "</style><table id=\"T_3c4e30e2_9e77_11e9_90c8_7c76355f9654\" ><thead>    <tr>        <th class=\"blank level0\" ></th>        <th class=\"col_heading level0 col0\" >Total count</th>        <th class=\"col_heading level0 col1\" >Percentage of players</th>    </tr>    <tr>        <th class=\"index_name level0\" ></th>        <th class=\"blank\" ></th>        <th class=\"blank\" ></th>    </tr></thead><tbody>\n",
       "                <tr>\n",
       "                        <th id=\"T_3c4e30e2_9e77_11e9_90c8_7c76355f9654level0_row0\" class=\"row_heading level0 row0\" ><10</th>\n",
       "                        <td id=\"T_3c4e30e2_9e77_11e9_90c8_7c76355f9654row0_col0\" class=\"data row0 col0\" >17</td>\n",
       "                        <td id=\"T_3c4e30e2_9e77_11e9_90c8_7c76355f9654row0_col1\" class=\"data row0 col1\" >2.95</td>\n",
       "            </tr>\n",
       "            <tr>\n",
       "                        <th id=\"T_3c4e30e2_9e77_11e9_90c8_7c76355f9654level0_row1\" class=\"row_heading level0 row1\" >10-14</th>\n",
       "                        <td id=\"T_3c4e30e2_9e77_11e9_90c8_7c76355f9654row1_col0\" class=\"data row1 col0\" >22</td>\n",
       "                        <td id=\"T_3c4e30e2_9e77_11e9_90c8_7c76355f9654row1_col1\" class=\"data row1 col1\" >3.82</td>\n",
       "            </tr>\n",
       "            <tr>\n",
       "                        <th id=\"T_3c4e30e2_9e77_11e9_90c8_7c76355f9654level0_row2\" class=\"row_heading level0 row2\" >15-19</th>\n",
       "                        <td id=\"T_3c4e30e2_9e77_11e9_90c8_7c76355f9654row2_col0\" class=\"data row2 col0\" >107</td>\n",
       "                        <td id=\"T_3c4e30e2_9e77_11e9_90c8_7c76355f9654row2_col1\" class=\"data row2 col1\" >18.58</td>\n",
       "            </tr>\n",
       "            <tr>\n",
       "                        <th id=\"T_3c4e30e2_9e77_11e9_90c8_7c76355f9654level0_row3\" class=\"row_heading level0 row3\" >20-24</th>\n",
       "                        <td id=\"T_3c4e30e2_9e77_11e9_90c8_7c76355f9654row3_col0\" class=\"data row3 col0\" >258</td>\n",
       "                        <td id=\"T_3c4e30e2_9e77_11e9_90c8_7c76355f9654row3_col1\" class=\"data row3 col1\" >44.79</td>\n",
       "            </tr>\n",
       "            <tr>\n",
       "                        <th id=\"T_3c4e30e2_9e77_11e9_90c8_7c76355f9654level0_row4\" class=\"row_heading level0 row4\" >25-29</th>\n",
       "                        <td id=\"T_3c4e30e2_9e77_11e9_90c8_7c76355f9654row4_col0\" class=\"data row4 col0\" >77</td>\n",
       "                        <td id=\"T_3c4e30e2_9e77_11e9_90c8_7c76355f9654row4_col1\" class=\"data row4 col1\" >13.37</td>\n",
       "            </tr>\n",
       "            <tr>\n",
       "                        <th id=\"T_3c4e30e2_9e77_11e9_90c8_7c76355f9654level0_row5\" class=\"row_heading level0 row5\" >30-34</th>\n",
       "                        <td id=\"T_3c4e30e2_9e77_11e9_90c8_7c76355f9654row5_col0\" class=\"data row5 col0\" >52</td>\n",
       "                        <td id=\"T_3c4e30e2_9e77_11e9_90c8_7c76355f9654row5_col1\" class=\"data row5 col1\" >9.03</td>\n",
       "            </tr>\n",
       "            <tr>\n",
       "                        <th id=\"T_3c4e30e2_9e77_11e9_90c8_7c76355f9654level0_row6\" class=\"row_heading level0 row6\" >35-39</th>\n",
       "                        <td id=\"T_3c4e30e2_9e77_11e9_90c8_7c76355f9654row6_col0\" class=\"data row6 col0\" >31</td>\n",
       "                        <td id=\"T_3c4e30e2_9e77_11e9_90c8_7c76355f9654row6_col1\" class=\"data row6 col1\" >5.38</td>\n",
       "            </tr>\n",
       "            <tr>\n",
       "                        <th id=\"T_3c4e30e2_9e77_11e9_90c8_7c76355f9654level0_row7\" class=\"row_heading level0 row7\" >40+</th>\n",
       "                        <td id=\"T_3c4e30e2_9e77_11e9_90c8_7c76355f9654row7_col0\" class=\"data row7 col0\" >12</td>\n",
       "                        <td id=\"T_3c4e30e2_9e77_11e9_90c8_7c76355f9654row7_col1\" class=\"data row7 col1\" >2.08</td>\n",
       "            </tr>\n",
       "    </tbody></table>"
      ],
      "text/plain": [
       "<pandas.io.formats.style.Styler at 0x2ca6d843d68>"
      ]
     },
     "execution_count": 90,
     "metadata": {},
     "output_type": "execute_result"
    }
   ],
   "source": [
    "# store in dataframe\n",
    "summary_age_demo = {'Total count' : age_cat_count, \n",
    "                    'Percentage of players' : perc_player          \n",
    "}\n",
    "\n",
    "summary_age_demo_df = pd.DataFrame(summary_age_demo)\n",
    "summary_age_demo_df.index.names=[\"\"]\n",
    "summary_age_demo_df=summary_age_demo_df.style.format({'Percentage of players': '{:,.2f}'.format})\n",
    "summary_age_demo_df"
   ]
  },
  {
   "cell_type": "code",
   "execution_count": null,
   "metadata": {},
   "outputs": [],
   "source": []
  },
  {
   "cell_type": "markdown",
   "metadata": {},
   "source": [
    "## Purchasing Analysis (Age)"
   ]
  },
  {
   "cell_type": "markdown",
   "metadata": {},
   "source": [
    "* Bin the purchase_data data frame by age\n",
    "\n",
    "\n",
    "* Run basic calculations to obtain purchase count, avg. purchase price, avg. purchase total per person etc. in the table below\n",
    "\n",
    "\n",
    "* Create a summary data frame to hold the results\n",
    "\n",
    "\n",
    "* Optional: give the displayed data cleaner formatting\n",
    "\n",
    "\n",
    "* Display the summary data frame"
   ]
  },
  {
   "cell_type": "code",
   "execution_count": 33,
   "metadata": {},
   "outputs": [
    {
     "data": {
      "text/html": [
       "<div>\n",
       "<style scoped>\n",
       "    .dataframe tbody tr th:only-of-type {\n",
       "        vertical-align: middle;\n",
       "    }\n",
       "\n",
       "    .dataframe tbody tr th {\n",
       "        vertical-align: top;\n",
       "    }\n",
       "\n",
       "    .dataframe thead th {\n",
       "        text-align: right;\n",
       "    }\n",
       "</style>\n",
       "<table border=\"1\" class=\"dataframe\">\n",
       "  <thead>\n",
       "    <tr style=\"text-align: right;\">\n",
       "      <th></th>\n",
       "      <th>Purchase ID</th>\n",
       "      <th>SN</th>\n",
       "      <th>Age</th>\n",
       "      <th>Gender</th>\n",
       "      <th>Item ID</th>\n",
       "      <th>Item Name</th>\n",
       "      <th>Price</th>\n",
       "    </tr>\n",
       "  </thead>\n",
       "  <tbody>\n",
       "    <tr>\n",
       "      <th>0</th>\n",
       "      <td>0</td>\n",
       "      <td>Lisim78</td>\n",
       "      <td>20</td>\n",
       "      <td>Male</td>\n",
       "      <td>108</td>\n",
       "      <td>Extraction, Quickblade Of Trembling Hands</td>\n",
       "      <td>3.53</td>\n",
       "    </tr>\n",
       "    <tr>\n",
       "      <th>1</th>\n",
       "      <td>1</td>\n",
       "      <td>Lisovynya38</td>\n",
       "      <td>40</td>\n",
       "      <td>Male</td>\n",
       "      <td>143</td>\n",
       "      <td>Frenzied Scimitar</td>\n",
       "      <td>1.56</td>\n",
       "    </tr>\n",
       "    <tr>\n",
       "      <th>2</th>\n",
       "      <td>2</td>\n",
       "      <td>Ithergue48</td>\n",
       "      <td>24</td>\n",
       "      <td>Male</td>\n",
       "      <td>92</td>\n",
       "      <td>Final Critic</td>\n",
       "      <td>4.88</td>\n",
       "    </tr>\n",
       "    <tr>\n",
       "      <th>3</th>\n",
       "      <td>3</td>\n",
       "      <td>Chamassasya86</td>\n",
       "      <td>24</td>\n",
       "      <td>Male</td>\n",
       "      <td>100</td>\n",
       "      <td>Blindscythe</td>\n",
       "      <td>3.27</td>\n",
       "    </tr>\n",
       "    <tr>\n",
       "      <th>4</th>\n",
       "      <td>4</td>\n",
       "      <td>Iskosia90</td>\n",
       "      <td>23</td>\n",
       "      <td>Male</td>\n",
       "      <td>131</td>\n",
       "      <td>Fury</td>\n",
       "      <td>1.44</td>\n",
       "    </tr>\n",
       "  </tbody>\n",
       "</table>\n",
       "</div>"
      ],
      "text/plain": [
       "   Purchase ID             SN  Age Gender  Item ID  \\\n",
       "0            0        Lisim78   20   Male      108   \n",
       "1            1    Lisovynya38   40   Male      143   \n",
       "2            2     Ithergue48   24   Male       92   \n",
       "3            3  Chamassasya86   24   Male      100   \n",
       "4            4      Iskosia90   23   Male      131   \n",
       "\n",
       "                                   Item Name  Price  \n",
       "0  Extraction, Quickblade Of Trembling Hands   3.53  \n",
       "1                          Frenzied Scimitar   1.56  \n",
       "2                               Final Critic   4.88  \n",
       "3                                Blindscythe   3.27  \n",
       "4                                       Fury   1.44  "
      ]
     },
     "execution_count": 33,
     "metadata": {},
     "output_type": "execute_result"
    }
   ],
   "source": [
    "# check purchase_data to extract necessary data from purchase_data\n",
    "purchase_data.head()"
   ]
  },
  {
   "cell_type": "code",
   "execution_count": 34,
   "metadata": {},
   "outputs": [
    {
     "data": {
      "text/html": [
       "<div>\n",
       "<style scoped>\n",
       "    .dataframe tbody tr th:only-of-type {\n",
       "        vertical-align: middle;\n",
       "    }\n",
       "\n",
       "    .dataframe tbody tr th {\n",
       "        vertical-align: top;\n",
       "    }\n",
       "\n",
       "    .dataframe thead th {\n",
       "        text-align: right;\n",
       "    }\n",
       "</style>\n",
       "<table border=\"1\" class=\"dataframe\">\n",
       "  <thead>\n",
       "    <tr style=\"text-align: right;\">\n",
       "      <th></th>\n",
       "      <th>Age</th>\n",
       "      <th>Price</th>\n",
       "      <th>SN</th>\n",
       "    </tr>\n",
       "  </thead>\n",
       "  <tbody>\n",
       "    <tr>\n",
       "      <th>0</th>\n",
       "      <td>20</td>\n",
       "      <td>3.53</td>\n",
       "      <td>Lisim78</td>\n",
       "    </tr>\n",
       "    <tr>\n",
       "      <th>1</th>\n",
       "      <td>40</td>\n",
       "      <td>1.56</td>\n",
       "      <td>Lisovynya38</td>\n",
       "    </tr>\n",
       "    <tr>\n",
       "      <th>2</th>\n",
       "      <td>24</td>\n",
       "      <td>4.88</td>\n",
       "      <td>Ithergue48</td>\n",
       "    </tr>\n",
       "    <tr>\n",
       "      <th>3</th>\n",
       "      <td>24</td>\n",
       "      <td>3.27</td>\n",
       "      <td>Chamassasya86</td>\n",
       "    </tr>\n",
       "    <tr>\n",
       "      <th>4</th>\n",
       "      <td>23</td>\n",
       "      <td>1.44</td>\n",
       "      <td>Iskosia90</td>\n",
       "    </tr>\n",
       "  </tbody>\n",
       "</table>\n",
       "</div>"
      ],
      "text/plain": [
       "   Age  Price             SN\n",
       "0   20   3.53        Lisim78\n",
       "1   40   1.56    Lisovynya38\n",
       "2   24   4.88     Ithergue48\n",
       "3   24   3.27  Chamassasya86\n",
       "4   23   1.44      Iskosia90"
      ]
     },
     "execution_count": 34,
     "metadata": {},
     "output_type": "execute_result"
    }
   ],
   "source": [
    "#extract column for \"Age\" and \"SN\"\n",
    "extract_DF = purchase_data.loc[:,[\"Age\", \"Price\",\"SN\"]]\n",
    "extract_DF.head()"
   ]
  },
  {
   "cell_type": "code",
   "execution_count": 35,
   "metadata": {},
   "outputs": [
    {
     "data": {
      "text/plain": [
       "['<10', '10-14', '15-19', '20-24', '25-29', '30-34', '35-39', '40+']"
      ]
     },
     "execution_count": 35,
     "metadata": {},
     "output_type": "execute_result"
    }
   ],
   "source": [
    "#define the bins for ages\n",
    "age_bins = [0,9, 14,19,24,29,34,39,100]\n",
    "\n",
    "# define bins label\n",
    "age_bin_labels = [\"<10\", \"10-14\",\"15-19\",\"20-24\",\"25-29\",\"30-34\",\"35-39\",\"40+\"]\n",
    "age_bin_labels"
   ]
  },
  {
   "cell_type": "code",
   "execution_count": 36,
   "metadata": {},
   "outputs": [
    {
     "data": {
      "text/plain": [
       "0    20-24\n",
       "1      40+\n",
       "2    20-24\n",
       "3    20-24\n",
       "4    20-24\n",
       "Name: Age, dtype: category\n",
       "Categories (8, object): [<10 < 10-14 < 15-19 < 20-24 < 25-29 < 30-34 < 35-39 < 40+]"
      ]
     },
     "execution_count": 36,
     "metadata": {},
     "output_type": "execute_result"
    }
   ],
   "source": [
    "## Divide into bins\n",
    "pd.cut(extract_DF[\"Age\"], bins=age_bins, labels=age_bin_labels).head()"
   ]
  },
  {
   "cell_type": "code",
   "execution_count": 37,
   "metadata": {},
   "outputs": [
    {
     "data": {
      "text/html": [
       "<div>\n",
       "<style scoped>\n",
       "    .dataframe tbody tr th:only-of-type {\n",
       "        vertical-align: middle;\n",
       "    }\n",
       "\n",
       "    .dataframe tbody tr th {\n",
       "        vertical-align: top;\n",
       "    }\n",
       "\n",
       "    .dataframe thead th {\n",
       "        text-align: right;\n",
       "    }\n",
       "</style>\n",
       "<table border=\"1\" class=\"dataframe\">\n",
       "  <thead>\n",
       "    <tr style=\"text-align: right;\">\n",
       "      <th></th>\n",
       "      <th>Age</th>\n",
       "      <th>Price</th>\n",
       "      <th>SN</th>\n",
       "      <th>Age category</th>\n",
       "    </tr>\n",
       "  </thead>\n",
       "  <tbody>\n",
       "    <tr>\n",
       "      <th>0</th>\n",
       "      <td>20</td>\n",
       "      <td>3.53</td>\n",
       "      <td>Lisim78</td>\n",
       "      <td>20-24</td>\n",
       "    </tr>\n",
       "    <tr>\n",
       "      <th>1</th>\n",
       "      <td>40</td>\n",
       "      <td>1.56</td>\n",
       "      <td>Lisovynya38</td>\n",
       "      <td>40+</td>\n",
       "    </tr>\n",
       "    <tr>\n",
       "      <th>2</th>\n",
       "      <td>24</td>\n",
       "      <td>4.88</td>\n",
       "      <td>Ithergue48</td>\n",
       "      <td>20-24</td>\n",
       "    </tr>\n",
       "    <tr>\n",
       "      <th>3</th>\n",
       "      <td>24</td>\n",
       "      <td>3.27</td>\n",
       "      <td>Chamassasya86</td>\n",
       "      <td>20-24</td>\n",
       "    </tr>\n",
       "    <tr>\n",
       "      <th>4</th>\n",
       "      <td>23</td>\n",
       "      <td>1.44</td>\n",
       "      <td>Iskosia90</td>\n",
       "      <td>20-24</td>\n",
       "    </tr>\n",
       "    <tr>\n",
       "      <th>5</th>\n",
       "      <td>22</td>\n",
       "      <td>3.61</td>\n",
       "      <td>Yalae81</td>\n",
       "      <td>20-24</td>\n",
       "    </tr>\n",
       "    <tr>\n",
       "      <th>6</th>\n",
       "      <td>36</td>\n",
       "      <td>2.18</td>\n",
       "      <td>Itheria73</td>\n",
       "      <td>35-39</td>\n",
       "    </tr>\n",
       "    <tr>\n",
       "      <th>7</th>\n",
       "      <td>20</td>\n",
       "      <td>2.67</td>\n",
       "      <td>Iskjaskst81</td>\n",
       "      <td>20-24</td>\n",
       "    </tr>\n",
       "    <tr>\n",
       "      <th>8</th>\n",
       "      <td>22</td>\n",
       "      <td>1.10</td>\n",
       "      <td>Undjask33</td>\n",
       "      <td>20-24</td>\n",
       "    </tr>\n",
       "    <tr>\n",
       "      <th>9</th>\n",
       "      <td>35</td>\n",
       "      <td>3.58</td>\n",
       "      <td>Chanosian48</td>\n",
       "      <td>35-39</td>\n",
       "    </tr>\n",
       "    <tr>\n",
       "      <th>10</th>\n",
       "      <td>23</td>\n",
       "      <td>4.74</td>\n",
       "      <td>Inguron55</td>\n",
       "      <td>20-24</td>\n",
       "    </tr>\n",
       "    <tr>\n",
       "      <th>11</th>\n",
       "      <td>23</td>\n",
       "      <td>2.67</td>\n",
       "      <td>Haisrisuir60</td>\n",
       "      <td>20-24</td>\n",
       "    </tr>\n",
       "    <tr>\n",
       "      <th>12</th>\n",
       "      <td>21</td>\n",
       "      <td>4.18</td>\n",
       "      <td>Saelaephos52</td>\n",
       "      <td>20-24</td>\n",
       "    </tr>\n",
       "    <tr>\n",
       "      <th>13</th>\n",
       "      <td>22</td>\n",
       "      <td>1.70</td>\n",
       "      <td>Assjaskan73</td>\n",
       "      <td>20-24</td>\n",
       "    </tr>\n",
       "    <tr>\n",
       "      <th>14</th>\n",
       "      <td>35</td>\n",
       "      <td>4.86</td>\n",
       "      <td>Saesrideu94</td>\n",
       "      <td>35-39</td>\n",
       "    </tr>\n",
       "    <tr>\n",
       "      <th>15</th>\n",
       "      <td>21</td>\n",
       "      <td>2.89</td>\n",
       "      <td>Lisassa64</td>\n",
       "      <td>20-24</td>\n",
       "    </tr>\n",
       "    <tr>\n",
       "      <th>16</th>\n",
       "      <td>20</td>\n",
       "      <td>2.52</td>\n",
       "      <td>Lisirra25</td>\n",
       "      <td>20-24</td>\n",
       "    </tr>\n",
       "    <tr>\n",
       "      <th>17</th>\n",
       "      <td>21</td>\n",
       "      <td>1.76</td>\n",
       "      <td>Zontibe81</td>\n",
       "      <td>20-24</td>\n",
       "    </tr>\n",
       "    <tr>\n",
       "      <th>18</th>\n",
       "      <td>22</td>\n",
       "      <td>4.90</td>\n",
       "      <td>Reunasu60</td>\n",
       "      <td>20-24</td>\n",
       "    </tr>\n",
       "    <tr>\n",
       "      <th>19</th>\n",
       "      <td>30</td>\n",
       "      <td>4.64</td>\n",
       "      <td>Chamalo71</td>\n",
       "      <td>30-34</td>\n",
       "    </tr>\n",
       "  </tbody>\n",
       "</table>\n",
       "</div>"
      ],
      "text/plain": [
       "    Age  Price             SN Age category\n",
       "0    20   3.53        Lisim78        20-24\n",
       "1    40   1.56    Lisovynya38          40+\n",
       "2    24   4.88     Ithergue48        20-24\n",
       "3    24   3.27  Chamassasya86        20-24\n",
       "4    23   1.44      Iskosia90        20-24\n",
       "5    22   3.61        Yalae81        20-24\n",
       "6    36   2.18      Itheria73        35-39\n",
       "7    20   2.67    Iskjaskst81        20-24\n",
       "8    22   1.10      Undjask33        20-24\n",
       "9    35   3.58    Chanosian48        35-39\n",
       "10   23   4.74      Inguron55        20-24\n",
       "11   23   2.67   Haisrisuir60        20-24\n",
       "12   21   4.18   Saelaephos52        20-24\n",
       "13   22   1.70    Assjaskan73        20-24\n",
       "14   35   4.86    Saesrideu94        35-39\n",
       "15   21   2.89      Lisassa64        20-24\n",
       "16   20   2.52      Lisirra25        20-24\n",
       "17   21   1.76      Zontibe81        20-24\n",
       "18   22   4.90      Reunasu60        20-24\n",
       "19   30   4.64      Chamalo71        30-34"
      ]
     },
     "execution_count": 37,
     "metadata": {},
     "output_type": "execute_result"
    }
   ],
   "source": [
    "# classify age data into \"Age Category\" \n",
    "\n",
    "extract_DF[\"Age category\"]= pd.cut(extract_DF[\"Age\"], bins=age_bins, labels=age_bin_labels)\n",
    "extract_DF.head(20)"
   ]
  },
  {
   "cell_type": "code",
   "execution_count": 38,
   "metadata": {
    "scrolled": true
   },
   "outputs": [
    {
     "data": {
      "text/html": [
       "<div>\n",
       "<style scoped>\n",
       "    .dataframe tbody tr th:only-of-type {\n",
       "        vertical-align: middle;\n",
       "    }\n",
       "\n",
       "    .dataframe tbody tr th {\n",
       "        vertical-align: top;\n",
       "    }\n",
       "\n",
       "    .dataframe thead th {\n",
       "        text-align: right;\n",
       "    }\n",
       "</style>\n",
       "<table border=\"1\" class=\"dataframe\">\n",
       "  <thead>\n",
       "    <tr style=\"text-align: right;\">\n",
       "      <th></th>\n",
       "      <th>Age</th>\n",
       "      <th>Price</th>\n",
       "      <th>SN</th>\n",
       "      <th>Age category</th>\n",
       "    </tr>\n",
       "  </thead>\n",
       "  <tbody>\n",
       "    <tr>\n",
       "      <th>0</th>\n",
       "      <td>20</td>\n",
       "      <td>3.53</td>\n",
       "      <td>Lisim78</td>\n",
       "      <td>20-24</td>\n",
       "    </tr>\n",
       "    <tr>\n",
       "      <th>1</th>\n",
       "      <td>40</td>\n",
       "      <td>1.56</td>\n",
       "      <td>Lisovynya38</td>\n",
       "      <td>40+</td>\n",
       "    </tr>\n",
       "    <tr>\n",
       "      <th>2</th>\n",
       "      <td>24</td>\n",
       "      <td>4.88</td>\n",
       "      <td>Ithergue48</td>\n",
       "      <td>20-24</td>\n",
       "    </tr>\n",
       "    <tr>\n",
       "      <th>3</th>\n",
       "      <td>24</td>\n",
       "      <td>3.27</td>\n",
       "      <td>Chamassasya86</td>\n",
       "      <td>20-24</td>\n",
       "    </tr>\n",
       "    <tr>\n",
       "      <th>4</th>\n",
       "      <td>23</td>\n",
       "      <td>1.44</td>\n",
       "      <td>Iskosia90</td>\n",
       "      <td>20-24</td>\n",
       "    </tr>\n",
       "    <tr>\n",
       "      <th>5</th>\n",
       "      <td>22</td>\n",
       "      <td>3.61</td>\n",
       "      <td>Yalae81</td>\n",
       "      <td>20-24</td>\n",
       "    </tr>\n",
       "    <tr>\n",
       "      <th>6</th>\n",
       "      <td>36</td>\n",
       "      <td>2.18</td>\n",
       "      <td>Itheria73</td>\n",
       "      <td>35-39</td>\n",
       "    </tr>\n",
       "    <tr>\n",
       "      <th>9</th>\n",
       "      <td>35</td>\n",
       "      <td>3.58</td>\n",
       "      <td>Chanosian48</td>\n",
       "      <td>35-39</td>\n",
       "    </tr>\n",
       "    <tr>\n",
       "      <th>14</th>\n",
       "      <td>35</td>\n",
       "      <td>4.86</td>\n",
       "      <td>Saesrideu94</td>\n",
       "      <td>35-39</td>\n",
       "    </tr>\n",
       "    <tr>\n",
       "      <th>19</th>\n",
       "      <td>30</td>\n",
       "      <td>4.64</td>\n",
       "      <td>Chamalo71</td>\n",
       "      <td>30-34</td>\n",
       "    </tr>\n",
       "    <tr>\n",
       "      <th>22</th>\n",
       "      <td>38</td>\n",
       "      <td>3.81</td>\n",
       "      <td>Siarithria38</td>\n",
       "      <td>35-39</td>\n",
       "    </tr>\n",
       "    <tr>\n",
       "      <th>23</th>\n",
       "      <td>40</td>\n",
       "      <td>3.40</td>\n",
       "      <td>Eyrian71</td>\n",
       "      <td>40+</td>\n",
       "    </tr>\n",
       "    <tr>\n",
       "      <th>24</th>\n",
       "      <td>30</td>\n",
       "      <td>3.19</td>\n",
       "      <td>Siala43</td>\n",
       "      <td>30-34</td>\n",
       "    </tr>\n",
       "    <tr>\n",
       "      <th>25</th>\n",
       "      <td>29</td>\n",
       "      <td>4.23</td>\n",
       "      <td>Lisirra87</td>\n",
       "      <td>25-29</td>\n",
       "    </tr>\n",
       "    <tr>\n",
       "      <th>26</th>\n",
       "      <td>11</td>\n",
       "      <td>1.61</td>\n",
       "      <td>Lirtossa84</td>\n",
       "      <td>10-14</td>\n",
       "    </tr>\n",
       "    <tr>\n",
       "      <th>27</th>\n",
       "      <td>7</td>\n",
       "      <td>3.09</td>\n",
       "      <td>Eusri44</td>\n",
       "      <td>&lt;10</td>\n",
       "    </tr>\n",
       "    <tr>\n",
       "      <th>30</th>\n",
       "      <td>19</td>\n",
       "      <td>2.94</td>\n",
       "      <td>Idai61</td>\n",
       "      <td>15-19</td>\n",
       "    </tr>\n",
       "    <tr>\n",
       "      <th>31</th>\n",
       "      <td>37</td>\n",
       "      <td>4.48</td>\n",
       "      <td>Farusrian86</td>\n",
       "      <td>35-39</td>\n",
       "    </tr>\n",
       "    <tr>\n",
       "      <th>32</th>\n",
       "      <td>10</td>\n",
       "      <td>4.09</td>\n",
       "      <td>Aeralria27</td>\n",
       "      <td>10-14</td>\n",
       "    </tr>\n",
       "    <tr>\n",
       "      <th>33</th>\n",
       "      <td>7</td>\n",
       "      <td>2.38</td>\n",
       "      <td>Haillyrgue51</td>\n",
       "      <td>&lt;10</td>\n",
       "    </tr>\n",
       "    <tr>\n",
       "      <th>34</th>\n",
       "      <td>19</td>\n",
       "      <td>4.40</td>\n",
       "      <td>Sondim73</td>\n",
       "      <td>15-19</td>\n",
       "    </tr>\n",
       "    <tr>\n",
       "      <th>36</th>\n",
       "      <td>30</td>\n",
       "      <td>3.15</td>\n",
       "      <td>Idaisuir85</td>\n",
       "      <td>30-34</td>\n",
       "    </tr>\n",
       "    <tr>\n",
       "      <th>37</th>\n",
       "      <td>8</td>\n",
       "      <td>2.05</td>\n",
       "      <td>Seuthep89</td>\n",
       "      <td>&lt;10</td>\n",
       "    </tr>\n",
       "    <tr>\n",
       "      <th>38</th>\n",
       "      <td>10</td>\n",
       "      <td>4.18</td>\n",
       "      <td>Reulae52</td>\n",
       "      <td>10-14</td>\n",
       "    </tr>\n",
       "    <tr>\n",
       "      <th>42</th>\n",
       "      <td>18</td>\n",
       "      <td>3.77</td>\n",
       "      <td>Aidaillodeu39</td>\n",
       "      <td>15-19</td>\n",
       "    </tr>\n",
       "    <tr>\n",
       "      <th>46</th>\n",
       "      <td>27</td>\n",
       "      <td>3.44</td>\n",
       "      <td>Yasrisu92</td>\n",
       "      <td>25-29</td>\n",
       "    </tr>\n",
       "    <tr>\n",
       "      <th>49</th>\n",
       "      <td>33</td>\n",
       "      <td>1.44</td>\n",
       "      <td>Iaralrgue74</td>\n",
       "      <td>30-34</td>\n",
       "    </tr>\n",
       "    <tr>\n",
       "      <th>53</th>\n",
       "      <td>32</td>\n",
       "      <td>2.84</td>\n",
       "      <td>Ilosianya35</td>\n",
       "      <td>30-34</td>\n",
       "    </tr>\n",
       "    <tr>\n",
       "      <th>54</th>\n",
       "      <td>10</td>\n",
       "      <td>4.35</td>\n",
       "      <td>Zhisrisu83</td>\n",
       "      <td>10-14</td>\n",
       "    </tr>\n",
       "    <tr>\n",
       "      <th>55</th>\n",
       "      <td>25</td>\n",
       "      <td>3.79</td>\n",
       "      <td>Phaelap26</td>\n",
       "      <td>25-29</td>\n",
       "    </tr>\n",
       "    <tr>\n",
       "      <th>56</th>\n",
       "      <td>12</td>\n",
       "      <td>3.53</td>\n",
       "      <td>Raesty92</td>\n",
       "      <td>10-14</td>\n",
       "    </tr>\n",
       "    <tr>\n",
       "      <th>59</th>\n",
       "      <td>19</td>\n",
       "      <td>3.03</td>\n",
       "      <td>Yaliru88</td>\n",
       "      <td>15-19</td>\n",
       "    </tr>\n",
       "    <tr>\n",
       "      <th>61</th>\n",
       "      <td>17</td>\n",
       "      <td>4.23</td>\n",
       "      <td>Jiskimya77</td>\n",
       "      <td>15-19</td>\n",
       "    </tr>\n",
       "    <tr>\n",
       "      <th>65</th>\n",
       "      <td>25</td>\n",
       "      <td>2.22</td>\n",
       "      <td>Chamirraya83</td>\n",
       "      <td>25-29</td>\n",
       "    </tr>\n",
       "    <tr>\n",
       "      <th>70</th>\n",
       "      <td>29</td>\n",
       "      <td>1.56</td>\n",
       "      <td>Pheodai94</td>\n",
       "      <td>25-29</td>\n",
       "    </tr>\n",
       "    <tr>\n",
       "      <th>78</th>\n",
       "      <td>7</td>\n",
       "      <td>4.60</td>\n",
       "      <td>Haillyrgue51</td>\n",
       "      <td>&lt;10</td>\n",
       "    </tr>\n",
       "    <tr>\n",
       "      <th>81</th>\n",
       "      <td>8</td>\n",
       "      <td>3.47</td>\n",
       "      <td>Heudai45</td>\n",
       "      <td>&lt;10</td>\n",
       "    </tr>\n",
       "    <tr>\n",
       "      <th>156</th>\n",
       "      <td>40</td>\n",
       "      <td>1.79</td>\n",
       "      <td>Eyrian71</td>\n",
       "      <td>40+</td>\n",
       "    </tr>\n",
       "    <tr>\n",
       "      <th>220</th>\n",
       "      <td>40</td>\n",
       "      <td>1.33</td>\n",
       "      <td>Jiskjask85</td>\n",
       "      <td>40+</td>\n",
       "    </tr>\n",
       "    <tr>\n",
       "      <th>248</th>\n",
       "      <td>44</td>\n",
       "      <td>3.39</td>\n",
       "      <td>Isursuir31</td>\n",
       "      <td>40+</td>\n",
       "    </tr>\n",
       "  </tbody>\n",
       "</table>\n",
       "</div>"
      ],
      "text/plain": [
       "     Age  Price             SN Age category\n",
       "0     20   3.53        Lisim78        20-24\n",
       "1     40   1.56    Lisovynya38          40+\n",
       "2     24   4.88     Ithergue48        20-24\n",
       "3     24   3.27  Chamassasya86        20-24\n",
       "4     23   1.44      Iskosia90        20-24\n",
       "5     22   3.61        Yalae81        20-24\n",
       "6     36   2.18      Itheria73        35-39\n",
       "9     35   3.58    Chanosian48        35-39\n",
       "14    35   4.86    Saesrideu94        35-39\n",
       "19    30   4.64      Chamalo71        30-34\n",
       "22    38   3.81   Siarithria38        35-39\n",
       "23    40   3.40       Eyrian71          40+\n",
       "24    30   3.19        Siala43        30-34\n",
       "25    29   4.23      Lisirra87        25-29\n",
       "26    11   1.61     Lirtossa84        10-14\n",
       "27     7   3.09        Eusri44          <10\n",
       "30    19   2.94         Idai61        15-19\n",
       "31    37   4.48    Farusrian86        35-39\n",
       "32    10   4.09     Aeralria27        10-14\n",
       "33     7   2.38   Haillyrgue51          <10\n",
       "34    19   4.40       Sondim73        15-19\n",
       "36    30   3.15     Idaisuir85        30-34\n",
       "37     8   2.05      Seuthep89          <10\n",
       "38    10   4.18       Reulae52        10-14\n",
       "42    18   3.77  Aidaillodeu39        15-19\n",
       "46    27   3.44      Yasrisu92        25-29\n",
       "49    33   1.44    Iaralrgue74        30-34\n",
       "53    32   2.84    Ilosianya35        30-34\n",
       "54    10   4.35     Zhisrisu83        10-14\n",
       "55    25   3.79      Phaelap26        25-29\n",
       "56    12   3.53       Raesty92        10-14\n",
       "59    19   3.03       Yaliru88        15-19\n",
       "61    17   4.23     Jiskimya77        15-19\n",
       "65    25   2.22   Chamirraya83        25-29\n",
       "70    29   1.56      Pheodai94        25-29\n",
       "78     7   4.60   Haillyrgue51          <10\n",
       "81     8   3.47       Heudai45          <10\n",
       "156   40   1.79       Eyrian71          40+\n",
       "220   40   1.33     Jiskjask85          40+\n",
       "248   44   3.39     Isursuir31          40+"
      ]
     },
     "execution_count": 38,
     "metadata": {},
     "output_type": "execute_result"
    }
   ],
   "source": [
    "# group by \"Age Categoy\"\n",
    "\n",
    "Purchase_Group_by_ageCat_df = extract_DF.groupby(\"Age category\")\n",
    "Purchase_Group_by_ageCat_df.head()"
   ]
  },
  {
   "cell_type": "code",
   "execution_count": 50,
   "metadata": {},
   "outputs": [
    {
     "data": {
      "text/plain": [
       "Age category\n",
       "<10       23\n",
       "10-14     28\n",
       "15-19    136\n",
       "20-24    365\n",
       "25-29    101\n",
       "Name: Age, dtype: int64"
      ]
     },
     "execution_count": 50,
     "metadata": {},
     "output_type": "execute_result"
    }
   ],
   "source": [
    "# count element in each age category\n",
    "Purchase_age_cat_count = Purchase_Group_by_ageCat_df[\"Age\"].count()\n",
    "Purchase_age_cat_count.head"
   ]
  },
  {
   "cell_type": "code",
   "execution_count": 43,
   "metadata": {},
   "outputs": [
    {
     "data": {
      "text/plain": [
       "Age category\n",
       "<10        77.13\n",
       "10-14      82.78\n",
       "15-19     412.89\n",
       "20-24    1114.06\n",
       "25-29     293.00\n",
       "30-34     214.00\n",
       "35-39     147.67\n",
       "40+        38.24\n",
       "Name: Price, dtype: float64"
      ]
     },
     "execution_count": 43,
     "metadata": {},
     "output_type": "execute_result"
    }
   ],
   "source": [
    "totalPurchase = Purchase_Group_by_ageCat_df[\"Price\"].sum()\n",
    "totalPurchase"
   ]
  },
  {
   "cell_type": "code",
   "execution_count": 52,
   "metadata": {},
   "outputs": [
    {
     "data": {
      "text/plain": [
       "\n",
       "<10      3.353478\n",
       "10-14    2.956429\n",
       "15-19    3.035956\n",
       "20-24    3.052219\n",
       "25-29    2.900990\n",
       "30-34    2.931507\n",
       "35-39    3.601707\n",
       "40+      2.941538\n",
       "Name: Price, dtype: float64"
      ]
     },
     "execution_count": 52,
     "metadata": {},
     "output_type": "execute_result"
    }
   ],
   "source": [
    "MeanPurchase = Purchase_Group_by_ageCat_df[\"Price\"].mean()\n",
    "MeanPurchase"
   ]
  },
  {
   "cell_type": "code",
   "execution_count": 62,
   "metadata": {},
   "outputs": [
    {
     "data": {
      "text/plain": [
       "{'Total count': \n",
       " <10       17\n",
       " 10-14     22\n",
       " 15-19    107\n",
       " 20-24    258\n",
       " 25-29     77\n",
       " 30-34     52\n",
       " 35-39     31\n",
       " 40+       12\n",
       " Name: Age, dtype: int64,\n",
       " 'Percentage of players': [2.95, 3.82, 18.58, 44.79, 13.37, 9.03, 5.38, 2.08]}"
      ]
     },
     "execution_count": 62,
     "metadata": {},
     "output_type": "execute_result"
    }
   ],
   "source": [
    "summary_age_demo"
   ]
  },
  {
   "cell_type": "code",
   "execution_count": 69,
   "metadata": {},
   "outputs": [
    {
     "data": {
      "text/plain": [
       "\n",
       "<10      4.537059\n",
       "10-14    3.762727\n",
       "15-19    3.858785\n",
       "20-24    4.318062\n",
       "25-29    3.805195\n",
       "30-34    4.115385\n",
       "35-39    4.763548\n",
       "40+      3.186667\n",
       "dtype: float64"
      ]
     },
     "execution_count": 69,
     "metadata": {},
     "output_type": "execute_result"
    }
   ],
   "source": [
    "Average_Total_per_pers = Purchase_Group_by_ageCat_df[\"Price\"].sum()/ summary_age_demo_df[\"Total count\"]\n",
    "Average_Total_per_pers"
   ]
  },
  {
   "cell_type": "code",
   "execution_count": 91,
   "metadata": {},
   "outputs": [
    {
     "data": {
      "text/html": [
       "<style  type=\"text/css\" >\n",
       "</style><table id=\"T_6b190fd0_9e77_11e9_92a6_7c76355f9654\" ><thead>    <tr>        <th class=\"blank level0\" ></th>        <th class=\"col_heading level0 col0\" >Purchase count</th>        <th class=\"col_heading level0 col1\" >Avg Purchase Price</th>        <th class=\"col_heading level0 col2\" >Total Purchase Value</th>        <th class=\"col_heading level0 col3\" >Avg Total Pruchase per Person</th>    </tr>    <tr>        <th class=\"index_name level0\" ></th>        <th class=\"blank\" ></th>        <th class=\"blank\" ></th>        <th class=\"blank\" ></th>        <th class=\"blank\" ></th>    </tr></thead><tbody>\n",
       "                <tr>\n",
       "                        <th id=\"T_6b190fd0_9e77_11e9_92a6_7c76355f9654level0_row0\" class=\"row_heading level0 row0\" ><10</th>\n",
       "                        <td id=\"T_6b190fd0_9e77_11e9_92a6_7c76355f9654row0_col0\" class=\"data row0 col0\" >23</td>\n",
       "                        <td id=\"T_6b190fd0_9e77_11e9_92a6_7c76355f9654row0_col1\" class=\"data row0 col1\" >$3.35</td>\n",
       "                        <td id=\"T_6b190fd0_9e77_11e9_92a6_7c76355f9654row0_col2\" class=\"data row0 col2\" >$77.13</td>\n",
       "                        <td id=\"T_6b190fd0_9e77_11e9_92a6_7c76355f9654row0_col3\" class=\"data row0 col3\" >$4.54</td>\n",
       "            </tr>\n",
       "            <tr>\n",
       "                        <th id=\"T_6b190fd0_9e77_11e9_92a6_7c76355f9654level0_row1\" class=\"row_heading level0 row1\" >10-14</th>\n",
       "                        <td id=\"T_6b190fd0_9e77_11e9_92a6_7c76355f9654row1_col0\" class=\"data row1 col0\" >28</td>\n",
       "                        <td id=\"T_6b190fd0_9e77_11e9_92a6_7c76355f9654row1_col1\" class=\"data row1 col1\" >$2.96</td>\n",
       "                        <td id=\"T_6b190fd0_9e77_11e9_92a6_7c76355f9654row1_col2\" class=\"data row1 col2\" >$82.78</td>\n",
       "                        <td id=\"T_6b190fd0_9e77_11e9_92a6_7c76355f9654row1_col3\" class=\"data row1 col3\" >$3.76</td>\n",
       "            </tr>\n",
       "            <tr>\n",
       "                        <th id=\"T_6b190fd0_9e77_11e9_92a6_7c76355f9654level0_row2\" class=\"row_heading level0 row2\" >15-19</th>\n",
       "                        <td id=\"T_6b190fd0_9e77_11e9_92a6_7c76355f9654row2_col0\" class=\"data row2 col0\" >136</td>\n",
       "                        <td id=\"T_6b190fd0_9e77_11e9_92a6_7c76355f9654row2_col1\" class=\"data row2 col1\" >$3.04</td>\n",
       "                        <td id=\"T_6b190fd0_9e77_11e9_92a6_7c76355f9654row2_col2\" class=\"data row2 col2\" >$412.89</td>\n",
       "                        <td id=\"T_6b190fd0_9e77_11e9_92a6_7c76355f9654row2_col3\" class=\"data row2 col3\" >$3.86</td>\n",
       "            </tr>\n",
       "            <tr>\n",
       "                        <th id=\"T_6b190fd0_9e77_11e9_92a6_7c76355f9654level0_row3\" class=\"row_heading level0 row3\" >20-24</th>\n",
       "                        <td id=\"T_6b190fd0_9e77_11e9_92a6_7c76355f9654row3_col0\" class=\"data row3 col0\" >365</td>\n",
       "                        <td id=\"T_6b190fd0_9e77_11e9_92a6_7c76355f9654row3_col1\" class=\"data row3 col1\" >$3.05</td>\n",
       "                        <td id=\"T_6b190fd0_9e77_11e9_92a6_7c76355f9654row3_col2\" class=\"data row3 col2\" >$1,114.06</td>\n",
       "                        <td id=\"T_6b190fd0_9e77_11e9_92a6_7c76355f9654row3_col3\" class=\"data row3 col3\" >$4.32</td>\n",
       "            </tr>\n",
       "            <tr>\n",
       "                        <th id=\"T_6b190fd0_9e77_11e9_92a6_7c76355f9654level0_row4\" class=\"row_heading level0 row4\" >25-29</th>\n",
       "                        <td id=\"T_6b190fd0_9e77_11e9_92a6_7c76355f9654row4_col0\" class=\"data row4 col0\" >101</td>\n",
       "                        <td id=\"T_6b190fd0_9e77_11e9_92a6_7c76355f9654row4_col1\" class=\"data row4 col1\" >$2.90</td>\n",
       "                        <td id=\"T_6b190fd0_9e77_11e9_92a6_7c76355f9654row4_col2\" class=\"data row4 col2\" >$293.00</td>\n",
       "                        <td id=\"T_6b190fd0_9e77_11e9_92a6_7c76355f9654row4_col3\" class=\"data row4 col3\" >$3.81</td>\n",
       "            </tr>\n",
       "            <tr>\n",
       "                        <th id=\"T_6b190fd0_9e77_11e9_92a6_7c76355f9654level0_row5\" class=\"row_heading level0 row5\" >30-34</th>\n",
       "                        <td id=\"T_6b190fd0_9e77_11e9_92a6_7c76355f9654row5_col0\" class=\"data row5 col0\" >73</td>\n",
       "                        <td id=\"T_6b190fd0_9e77_11e9_92a6_7c76355f9654row5_col1\" class=\"data row5 col1\" >$2.93</td>\n",
       "                        <td id=\"T_6b190fd0_9e77_11e9_92a6_7c76355f9654row5_col2\" class=\"data row5 col2\" >$214.00</td>\n",
       "                        <td id=\"T_6b190fd0_9e77_11e9_92a6_7c76355f9654row5_col3\" class=\"data row5 col3\" >$4.12</td>\n",
       "            </tr>\n",
       "            <tr>\n",
       "                        <th id=\"T_6b190fd0_9e77_11e9_92a6_7c76355f9654level0_row6\" class=\"row_heading level0 row6\" >35-39</th>\n",
       "                        <td id=\"T_6b190fd0_9e77_11e9_92a6_7c76355f9654row6_col0\" class=\"data row6 col0\" >41</td>\n",
       "                        <td id=\"T_6b190fd0_9e77_11e9_92a6_7c76355f9654row6_col1\" class=\"data row6 col1\" >$3.60</td>\n",
       "                        <td id=\"T_6b190fd0_9e77_11e9_92a6_7c76355f9654row6_col2\" class=\"data row6 col2\" >$147.67</td>\n",
       "                        <td id=\"T_6b190fd0_9e77_11e9_92a6_7c76355f9654row6_col3\" class=\"data row6 col3\" >$4.76</td>\n",
       "            </tr>\n",
       "            <tr>\n",
       "                        <th id=\"T_6b190fd0_9e77_11e9_92a6_7c76355f9654level0_row7\" class=\"row_heading level0 row7\" >40+</th>\n",
       "                        <td id=\"T_6b190fd0_9e77_11e9_92a6_7c76355f9654row7_col0\" class=\"data row7 col0\" >13</td>\n",
       "                        <td id=\"T_6b190fd0_9e77_11e9_92a6_7c76355f9654row7_col1\" class=\"data row7 col1\" >$2.94</td>\n",
       "                        <td id=\"T_6b190fd0_9e77_11e9_92a6_7c76355f9654row7_col2\" class=\"data row7 col2\" >$38.24</td>\n",
       "                        <td id=\"T_6b190fd0_9e77_11e9_92a6_7c76355f9654row7_col3\" class=\"data row7 col3\" >$3.19</td>\n",
       "            </tr>\n",
       "    </tbody></table>"
      ],
      "text/plain": [
       "<pandas.io.formats.style.Styler at 0x2ca6d843b70>"
      ]
     },
     "execution_count": 91,
     "metadata": {},
     "output_type": "execute_result"
    }
   ],
   "source": [
    "# store in dataframe\n",
    "summary_age_purchase = {'Purchase count' : Purchase_age_cat_count, \n",
    "                        'Avg Purchase Price': MeanPurchase,\n",
    "                        'Total Purchase Value' : totalPurchase  ,\n",
    "                        'Avg Total Pruchase per Person': Average_Total_per_pers\n",
    "}\n",
    "summary_age_purchase = pd.DataFrame(summary_age_purchase)\n",
    "#summary_age_purchase.index.names=[\"\"]\n",
    "summary_age_purchase=summary_age_purchase.style.format({\n",
    "                                              'Total Purchase Value': '${:,.2f}'.format , \n",
    "                                              'Avg Purchase Price':'${:,.2f}'.format , \n",
    "                                              'Avg Total Pruchase per Person': '${:,.2f}'.format \n",
    "                                             })\n",
    "summary_age_purchase"
   ]
  },
  {
   "cell_type": "code",
   "execution_count": null,
   "metadata": {},
   "outputs": [],
   "source": []
  },
  {
   "cell_type": "markdown",
   "metadata": {},
   "source": [
    "## Top Spenders"
   ]
  },
  {
   "cell_type": "markdown",
   "metadata": {},
   "source": [
    "* Run basic calculations to obtain the results in the table below\n",
    "\n",
    "\n",
    "* Create a summary data frame to hold the results\n",
    "\n",
    "\n",
    "* Sort the total purchase value column in descending order\n",
    "\n",
    "\n",
    "* Optional: give the displayed data cleaner formatting\n",
    "\n",
    "\n",
    "* Display a preview of the summary data frame\n",
    "\n"
   ]
  },
  {
   "cell_type": "code",
   "execution_count": null,
   "metadata": {},
   "outputs": [],
   "source": []
  },
  {
   "cell_type": "markdown",
   "metadata": {},
   "source": [
    "## Most Popular Items"
   ]
  },
  {
   "cell_type": "markdown",
   "metadata": {},
   "source": [
    "* Retrieve the Item ID, Item Name, and Item Price columns\n",
    "\n",
    "\n",
    "* Group by Item ID and Item Name. Perform calculations to obtain purchase count, item price, and total purchase value\n",
    "\n",
    "\n",
    "* Create a summary data frame to hold the results\n",
    "\n",
    "\n",
    "* Sort the purchase count column in descending order\n",
    "\n",
    "\n",
    "* Optional: give the displayed data cleaner formatting\n",
    "\n",
    "\n",
    "* Display a preview of the summary data frame\n",
    "\n"
   ]
  },
  {
   "cell_type": "code",
   "execution_count": null,
   "metadata": {},
   "outputs": [],
   "source": []
  },
  {
   "cell_type": "markdown",
   "metadata": {},
   "source": [
    "## Most Profitable Items"
   ]
  },
  {
   "cell_type": "markdown",
   "metadata": {},
   "source": [
    "* Sort the above table by total purchase value in descending order\n",
    "\n",
    "\n",
    "* Optional: give the displayed data cleaner formatting\n",
    "\n",
    "\n",
    "* Display a preview of the data frame\n",
    "\n"
   ]
  },
  {
   "cell_type": "code",
   "execution_count": null,
   "metadata": {
    "scrolled": true
   },
   "outputs": [],
   "source": []
  }
 ],
 "metadata": {
  "anaconda-cloud": {},
  "kernel_info": {
   "name": "python3"
  },
  "kernelspec": {
   "display_name": "Python 3",
   "language": "python",
   "name": "python3"
  },
  "language_info": {
   "codemirror_mode": {
    "name": "ipython",
    "version": 3
   },
   "file_extension": ".py",
   "mimetype": "text/x-python",
   "name": "python",
   "nbconvert_exporter": "python",
   "pygments_lexer": "ipython3",
   "version": "3.7.3"
  },
  "nteract": {
   "version": "0.2.0"
  }
 },
 "nbformat": 4,
 "nbformat_minor": 2
}
